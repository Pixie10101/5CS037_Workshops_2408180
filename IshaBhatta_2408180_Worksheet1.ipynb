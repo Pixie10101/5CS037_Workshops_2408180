{
 "cells": [
  {
   "cell_type": "code",
   "execution_count": 1,
   "id": "f3948abe-e2f9-4d90-a527-15f7203bd5fa",
   "metadata": {},
   "outputs": [
    {
     "name": "stdout",
     "output_type": "stream",
     "text": [
      "[[2.33088727e-086 9.86877513e+044]\n",
      " [6.06762498e-154 6.38796479e+029]]\n"
     ]
    }
   ],
   "source": [
    "#Problem - 1: Array Creation:\n",
    "\n",
    "#1. Initialize an empty array with size 2X2.\n",
    "import numpy as np\n",
    "\n",
    "empty_array=np.empty((2,2))\n",
    "print(empty_array)"
   ]
  },
  {
   "cell_type": "code",
   "execution_count": 7,
   "id": "7c0ed4c1-477d-44d7-b5c2-1bded24cfff4",
   "metadata": {},
   "outputs": [
    {
     "name": "stdout",
     "output_type": "stream",
     "text": [
      "[[0. 0.]\n",
      " [0. 0.]]\n"
     ]
    }
   ],
   "source": [
    "#1 For array filled with zeros\n",
    "zero_array=np.zeros((2,2))\n",
    "print(zero_array)"
   ]
  },
  {
   "cell_type": "code",
   "execution_count": 6,
   "id": "b9c2e6ae-2822-4427-8694-c1bc2b07b38b",
   "metadata": {},
   "outputs": [
    {
     "name": "stdout",
     "output_type": "stream",
     "text": [
      "[[5 5]\n",
      " [5 5]]\n"
     ]
    }
   ],
   "source": [
    "\n",
    "#2.\n",
    "array_filled=np.full((2,2),5)\n",
    "print(array_filled)\n"
   ]
  },
  {
   "cell_type": "code",
   "execution_count": 5,
   "id": "fd0499f2-5217-4485-a707-af5f2680b6b6",
   "metadata": {},
   "outputs": [
    {
     "name": "stdout",
     "output_type": "stream",
     "text": [
      "[[3.14 3.14 3.14]\n",
      " [3.14 3.14 3.14]\n",
      " [3.14 3.14 3.14]]\n"
     ]
    }
   ],
   "source": [
    "#2.\n",
    "array_filled_float=np.full((3,3),3.14,dtype=float)\n",
    "print(array_filled_float)"
   ]
  },
  {
   "cell_type": "code",
   "execution_count": 11,
   "id": "35b80bd3-373c-49e2-bb50-0c133965261b",
   "metadata": {},
   "outputs": [
    {
     "name": "stdout",
     "output_type": "stream",
     "text": [
      "[[3.14 3.14 3.14]\n",
      " [3.14 3.14 3.14]\n",
      " [3.14 3.14 3.14]]\n"
     ]
    }
   ],
   "source": [
    "#2 Creating 3*3 array filled with 3.14 of type float\n",
    "array_filled_float=np.full((3,3),3.14,dtype=float)\n",
    "print(array_filled_float)\n"
   ]
  },
  {
   "cell_type": "code",
   "execution_count": 15,
   "id": "943ea02e-1dc0-4399-8806-9ab76742d618",
   "metadata": {},
   "outputs": [
    {
     "name": "stdout",
     "output_type": "stream",
     "text": [
      "[[0. 0. 0.]\n",
      " [0. 0. 0.]]\n"
     ]
    }
   ],
   "source": [
    "#4 Create a zeros array with the same shape but as floats\n",
    "\n",
    "original_array = np.array([[1, 2, 3], [4, 5, 6]])\n",
    "# Create a zeros array with the same shape but as floats\n",
    "zeros_array_float = np.zeros_like(original_array, dtype=float)\n",
    "print(zeros_array_float)\n"
   ]
  },
  {
   "cell_type": "code",
   "execution_count": 16,
   "id": "ed22e3cc-08da-4d7e-a6d5-26d332e3caa5",
   "metadata": {},
   "outputs": [
    {
     "name": "stdout",
     "output_type": "stream",
     "text": [
      "[[1 1 1]\n",
      " [1 1 1]]\n"
     ]
    }
   ],
   "source": [
    "#5 Return a new array of ones with same shape and type as a given array.{Hint: np.ones like}\n",
    "\n",
    "arry= np.array([[1,2,3],[4,5,6]])\n",
    "\n",
    "#creating an array of ones with the same shape and type as arry\n",
    "ones_array= np.ones_like(arry)\n",
    "print(ones_array)\n"
   ]
  },
  {
   "cell_type": "code",
   "execution_count": 17,
   "id": "be4d2bb3-5c15-4521-be28-2171e71d2996",
   "metadata": {},
   "outputs": [
    {
     "name": "stdout",
     "output_type": "stream",
     "text": [
      "[1 2 3 4]\n"
     ]
    }
   ],
   "source": [
    "#6. For an existing list new_list = [1,2,3,4] convert to an numpy array.{Hint: np.array()}\n",
    "new_list=[1,2,3,4]\n",
    "#covert to a NumPy array\n",
    "array=np.array(new_list)\n",
    "print(array)\n"
   ]
  },
  {
   "cell_type": "code",
   "execution_count": 22,
   "id": "8827a685-b087-4da8-b8af-0ae8f6d894b9",
   "metadata": {},
   "outputs": [
    {
     "name": "stdout",
     "output_type": "stream",
     "text": [
      "[10 11 12 13 14 15 16 17 18 19 20 21 22 23 24 25 26 27 28 29 30 31 32 33\n",
      " 34 35 36 37 38 39 40 41 42 43 44 45 46 47 48 49]\n"
     ]
    }
   ],
   "source": [
    "#4.1.1 Problem-2:Array Manipulation:Numerical Ranges and Array indexing:\n",
    "\n",
    "#2 Create an array with values ranging from 10 to 49. {Hint:np.arrange()}.\n",
    "array=np.arange(10,50)\n",
    "print(array)"
   ]
  },
  {
   "cell_type": "code",
   "execution_count": 24,
   "id": "8519cf97-7ad5-4b31-8211-da32666f4170",
   "metadata": {},
   "outputs": [
    {
     "name": "stdout",
     "output_type": "stream",
     "text": [
      "[[0 1 2]\n",
      " [3 4 5]\n",
      " [6 7 8]]\n"
     ]
    }
   ],
   "source": [
    "#2 Create a 3X3 matrix with values ranging from 0 to 8.{Hint:look for np.reshape()}\n",
    "array=np.arange(9)\n",
    "matrix=array.reshape(3,3)\n",
    "print(matrix)"
   ]
  },
  {
   "cell_type": "code",
   "execution_count": 23,
   "id": "948bd749-5ef6-46ed-b32d-da94b5024c8f",
   "metadata": {},
   "outputs": [
    {
     "name": "stdout",
     "output_type": "stream",
     "text": [
      "[[1. 0. 0.]\n",
      " [0. 1. 0.]\n",
      " [0. 0. 1.]]\n"
     ]
    }
   ],
   "source": [
    "#3 Create a 3X3 identity matrix.{Hint:np.eye()}\n",
    "identity_matrix= np.eye(3)\n",
    "print(identity_matrix)"
   ]
  },
  {
   "cell_type": "code",
   "execution_count": 26,
   "id": "d4fa679f-7069-43c8-8401-23e43c739f14",
   "metadata": {},
   "outputs": [
    {
     "name": "stdout",
     "output_type": "stream",
     "text": [
      "Random array: [0.31540679 0.9682286  0.70155614 0.50797681 0.5157945  0.2337978\n",
      " 0.63885464 0.51183237 0.61255113 0.53086739 0.03429741 0.38428973\n",
      " 0.03770117 0.28777584 0.29486242 0.52239275 0.41992824 0.02059047\n",
      " 0.8559647  0.28670144 0.65838067 0.26066709 0.68111424 0.25008291\n",
      " 0.76013705 0.37620082 0.15696248 0.31610942 0.97249725 0.62403363]\n",
      "Mean of the array: 0.45791853008010897\n"
     ]
    }
   ],
   "source": [
    "#4 Create a random array of size 30 and find the mean of the array.{Hint:check for np.random.random() and array.mean() function}\n",
    "\n",
    "# Create a random array of size 30\n",
    "random_array = np.random.random(30)\n",
    "\n",
    "# Calculate the mean of the array\n",
    "mean_value = random_array.mean()\n",
    "\n",
    "# Corrected print statement with a comma\n",
    "print(\"Random array:\", random_array)\n",
    "print(\"Mean of the array:\", mean_value)\n"
   ]
  },
  {
   "cell_type": "code",
   "execution_count": 27,
   "id": "bf5a1d9f-47af-45fa-915a-518be8b0f338",
   "metadata": {},
   "outputs": [
    {
     "name": "stdout",
     "output_type": "stream",
     "text": [
      "Random 10x10 array:\n",
      "[[0.11313511 0.9840216  0.60712929 0.76480469 0.63605671 0.33992363\n",
      "  0.61232978 0.4732842  0.14790364 0.7522198 ]\n",
      " [0.65924403 0.33550789 0.74721646 0.20280981 0.04074012 0.91414714\n",
      "  0.5739843  0.72568385 0.30788299 0.73259152]\n",
      " [0.48112129 0.23191196 0.94873659 0.85212271 0.72311473 0.98138893\n",
      "  0.6170821  0.9332191  0.39559472 0.57108636]\n",
      " [0.22897643 0.43519841 0.08985273 0.36706209 0.92682407 0.43050535\n",
      "  0.20433214 0.99231602 0.42268525 0.55548434]\n",
      " [0.75543419 0.59688035 0.74308817 0.56730768 0.34852529 0.35824582\n",
      "  0.19853518 0.94249433 0.29208376 0.48453614]\n",
      " [0.58624837 0.76912014 0.6044915  0.45254747 0.18169956 0.64936717\n",
      "  0.23693627 0.48563776 0.1366159  0.56154509]\n",
      " [0.75066308 0.1237035  0.89632369 0.46065622 0.1081071  0.09775523\n",
      "  0.44508182 0.95401775 0.70158041 0.216749  ]\n",
      " [0.66593062 0.47531766 0.12104604 0.29768304 0.04595552 0.36740402\n",
      "  0.77200915 0.84327808 0.64136353 0.85102746]\n",
      " [0.88506176 0.65052359 0.88787079 0.6873367  0.10576068 0.62163363\n",
      "  0.25906064 0.63558339 0.58366691 0.81208143]\n",
      " [0.59431646 0.63734523 0.83311701 0.32880115 0.61164062 0.92865463\n",
      "  0.23920451 0.66628074 0.78084807 0.62152643]]\n",
      "Minimum value: 0.04074012104228064\n",
      "Maximum value: 0.9923160161063104\n"
     ]
    }
   ],
   "source": [
    "#5. Create a 10X10 array with random values and find the minimum and maximum values.\n",
    "\n",
    "\n",
    "# Create a 10x10 array with random values\n",
    "random_array = np.random.random((10, 10))\n",
    "\n",
    "# Find the minimum and maximum values in the array\n",
    "min_value = random_array.min()\n",
    "max_value = random_array.max()\n",
    "\n",
    "print(\"Random 10x10 array:\")\n",
    "print(random_array)\n",
    "print(\"Minimum value:\", min_value)\n",
    "print(\"Maximum value:\", max_value)\n",
    "\n"
   ]
  },
  {
   "cell_type": "code",
   "execution_count": 28,
   "id": "27b4df1b-09ef-4d31-8aac-e99086a1cfb1",
   "metadata": {},
   "outputs": [
    {
     "name": "stdout",
     "output_type": "stream",
     "text": [
      "Updated array: [0. 0. 0. 0. 1. 0. 0. 0. 0. 0.]\n"
     ]
    }
   ],
   "source": [
    "#6Create a zero array of size 10 and replace 5th element with 1.\n",
    "\n",
    "# Create a zero array of size 10\n",
    "zero_array = np.zeros(10)\n",
    "\n",
    "# Replace the 5th element (index 4) with 1\n",
    "zero_array[4] = 1\n",
    "\n",
    "print(\"Updated array:\", zero_array)\n"
   ]
  },
  {
   "cell_type": "code",
   "execution_count": 29,
   "id": "7ba158f1-c135-4bc5-8e02-7095b2469abd",
   "metadata": {},
   "outputs": [
    {
     "name": "stdout",
     "output_type": "stream",
     "text": [
      "Reversed array: [0, 4, 0, 0, 2, 1]\n"
     ]
    }
   ],
   "source": [
    "#7 Reverse an array arr = [1,2,0,0,4,0]\n",
    "# Given array\n",
    "arr = [1, 2, 0, 0, 4, 0]\n",
    "\n",
    "# Reverse the array using slicing\n",
    "reversed_arr = arr[::-1]\n",
    "\n",
    "print(\"Reversed array:\", reversed_arr)\n",
    "\n",
    "\n"
   ]
  },
  {
   "cell_type": "code",
   "execution_count": 30,
   "id": "5bed26e5-4824-4f86-a5cb-5a4804011584",
   "metadata": {},
   "outputs": [
    {
     "name": "stdout",
     "output_type": "stream",
     "text": [
      "2D array with 1 on border and 0 inside:\n",
      "[[1. 1. 1. 1. 1.]\n",
      " [1. 0. 0. 0. 1.]\n",
      " [1. 0. 0. 0. 1.]\n",
      " [1. 0. 0. 0. 1.]\n",
      " [1. 1. 1. 1. 1.]]\n"
     ]
    }
   ],
   "source": [
    "#8Create a 2d array with 1 on border and 0 inside.\n",
    "\n",
    "# Create a 2D array of size (5x5) with all ones\n",
    "array = np.ones((5, 5))\n",
    "\n",
    "# Set the inner elements (excluding the border) to zero\n",
    "array[1:-1, 1:-1] = 0\n",
    "\n",
    "print(\"2D array with 1 on border and 0 inside:\")\n",
    "print(array)\n",
    "\n"
   ]
  },
  {
   "cell_type": "code",
   "execution_count": 31,
   "id": "e11727b0-ccd6-482f-b37a-28d48ff6aea3",
   "metadata": {},
   "outputs": [
    {
     "name": "stdout",
     "output_type": "stream",
     "text": [
      "8x8 Checkerboard Pattern:\n",
      "[[0. 1. 0. 1. 0. 1. 0. 1.]\n",
      " [1. 0. 1. 0. 1. 0. 1. 0.]\n",
      " [0. 1. 0. 1. 0. 1. 0. 1.]\n",
      " [1. 0. 1. 0. 1. 0. 1. 0.]\n",
      " [0. 1. 0. 1. 0. 1. 0. 1.]\n",
      " [1. 0. 1. 0. 1. 0. 1. 0.]\n",
      " [0. 1. 0. 1. 0. 1. 0. 1.]\n",
      " [1. 0. 1. 0. 1. 0. 1. 0.]]\n"
     ]
    }
   ],
   "source": [
    "#9Create a 8X8 matrix and fill it with a checkerboard pattern.\n",
    "\n",
    "# Create an 8x8 matrix with alternating 1s and 0s (checkerboard pattern)\n",
    "checkerboard = np.zeros((8, 8))\n",
    "\n",
    "# Fill the checkerboard pattern with 1s at the appropriate positions\n",
    "checkerboard[1::2, ::2] = 1\n",
    "checkerboard[::2, 1::2] = 1\n",
    "\n",
    "print(\"8x8 Checkerboard Pattern:\")\n",
    "print(checkerboard)\n",
    "\n",
    "\n",
    "\n"
   ]
  },
  {
   "cell_type": "code",
   "execution_count": 32,
   "id": "cad1047c-3747-4fd7-82e8-d2584d9b7d2f",
   "metadata": {},
   "outputs": [
    {
     "name": "stdout",
     "output_type": "stream",
     "text": [
      "1. Addition of x and y:\n",
      "[[ 6  8]\n",
      " [10 13]]\n",
      "\n",
      "2. Subtraction of x and y:\n",
      "[[-4 -4]\n",
      " [-4 -3]]\n",
      "\n",
      "3. Multiplication of x with 2:\n",
      "[[ 2  4]\n",
      " [ 6 10]]\n",
      "\n",
      "4. Square of each element in x:\n",
      "[[ 1  4]\n",
      " [ 9 25]]\n",
      "\n",
      "5. Dot products:\n",
      "Dot product of v and w: 219\n",
      "Dot product of x and v:\n",
      "[29 77]\n",
      "Dot product of x and y:\n",
      "[[19 22]\n",
      " [50 58]]\n",
      "\n",
      "6. Concatenation:\n",
      "Concatenation of x and y along rows:\n",
      "[[1 2]\n",
      " [3 5]\n",
      " [5 6]\n",
      " [7 8]]\n",
      "Concatenation of v and w along columns:\n",
      "[[ 9 10]\n",
      " [11 12]]\n",
      "\n",
      "7. Error in concatenating x and v:\n",
      "all the input arrays must have same number of dimensions, but the array at index 0 has 2 dimension(s) and the array at index 1 has 1 dimension(s)\n",
      "Explanation: This error occurs because the dimensions of x (2x2) and v (1x2) don't match along axis 1.\n"
     ]
    }
   ],
   "source": [
    "#PROBLEM 04: MATRIX OPERATIONS\n",
    "import numpy as np\n",
    "\n",
    "x = np.array([[1, 2], [3, 5]])\n",
    "y = np.array([[5, 6], [7, 8]])\n",
    "v = np.array([9, 10])\n",
    "w = np.array([11, 12])\n",
    "\n",
    "add_result = x + y\n",
    "print(\"1. Addition of x and y:\")\n",
    "print(add_result)\n",
    "\n",
    "subtract_result = x - y\n",
    "print(\"\\n2. Subtraction of x and y:\")\n",
    "print(subtract_result)\n",
    "\n",
    "multiply_result = x * 2\n",
    "print(\"\\n3. Multiplication of x with 2:\")\n",
    "print(multiply_result)\n",
    "\n",
    "square_result = x ** 2\n",
    "print(\"\\n4. Square of each element in x:\")\n",
    "print(square_result)\n",
    "\n",
    "dot_vw = np.dot(v, w)\n",
    "dot_xv = np.dot(x, v)\n",
    "dot_xy = np.dot(x, y)\n",
    "print(\"\\n5. Dot products:\")\n",
    "print(f\"Dot product of v and w: {dot_vw}\")\n",
    "print(\"Dot product of x and v:\")\n",
    "print(dot_xv)\n",
    "print(\"Dot product of x and y:\")\n",
    "print(dot_xy)\n",
    "\n",
    "concat_xy = np.concatenate((x, y), axis=0)\n",
    "concat_vw = np.vstack((v, w))\n",
    "print(\"\\n6. Concatenation:\")\n",
    "print(\"Concatenation of x and y along rows:\")\n",
    "print(concat_xy)\n",
    "print(\"Concatenation of v and w along columns:\")\n",
    "print(concat_vw)\n",
    "\n",
    "try:\n",
    "    concat_xv = np.concatenate((x, v), axis=0)\n",
    "    print(\"\\n7. Concatenation of x and v:\")\n",
    "    print(concat_xv)\n",
    "except ValueError as e:\n",
    "    print(\"\\n7. Error in concatenating x and v:\")\n",
    "    print(e)\n",
    "    print(\"Explanation: This error occurs because the dimensions of x (2x2) and v (1x2) don't match along axis 1.\")\n"
   ]
  },
  {
   "cell_type": "code",
   "execution_count": null,
   "id": "d2fa8d65-9dc8-46ea-912c-d0486bba2182",
   "metadata": {},
   "outputs": [
    {
     "name": "stdout",
     "output_type": "stream",
     "text": [
      "Time taken for addition with Python lists: 0.10603 seconds\n",
      "Time taken for addition with NumPy arrays: 0.00540 seconds\n",
      "Time taken for multiplication with Python lists: 0.12345 seconds\n",
      "Time taken for multiplication with NumPy arrays: 0.00479 seconds\n",
      "Time taken for dot product with Python lists: 0.16466 seconds\n",
      "Time taken for dot product with NumPy arrays: 0.00319 seconds\n"
     ]
    }
   ],
   "source": [
    "#4.2Experiments\n",
    "import numpy as np\n",
    "import time\n",
    "\n",
    "# 1. Element-wise Addition\n",
    "size = 1_000_000\n",
    "list1 = list(range(size))\n",
    "list2 = list(range(size))\n",
    "array1 = np.arange(size)\n",
    "array2 = np.arange(size)\n",
    "\n",
    "start = time.time()\n",
    "result_list_add = [x + y for x, y in zip(list1, list2)]\n",
    "end = time.time()\n",
    "print(f\"Time taken for addition with Python lists: {end - start:.5f} seconds\")\n",
    "\n",
    "start = time.time()\n",
    "result_array_add = array1 + array2\n",
    "end = time.time()\n",
    "print(f\"Time taken for addition with NumPy arrays: {end - start:.5f} seconds\")\n",
    "\n",
    "# 2. Element-wise Multiplication\n",
    "start = time.time()\n",
    "result_list_mul = [x * y for x, y in zip(list1, list2)]\n",
    "end = time.time()\n",
    "print(f\"Time taken for multiplication with Python lists: {end - start:.5f} seconds\")\n",
    "\n",
    "\n",
    "start = time.time()\n",
    "result_array_mul = array1 * array2\n",
    "end = time.time()\n",
    "print(f\"Time taken for multiplication with NumPy arrays: {end - start:.5f} seconds\")\n",
    "\n",
    "# 3. Dot Product\n",
    "start = time.time()\n",
    "dot_product_list = sum(x * y for x, y in zip(list1, list2))\n",
    "end = time.time()\n",
    "print(f\"Time taken for dot product with Python lists: {end - start:.5f} seconds\")\n",
    "\n",
    "start = time.time()\n",
    "dot_product_array = np.dot(array1, array2)\n",
    "end = time.time()\n",
    "print(f\"Time taken for dot product with NumPy arrays: {end - start:.5f} seconds\")\n",
    "\n",
    "# 4. Matrix Multiplication\n",
    "matrix_size = 1000\n",
    "list_matrix1 = [[i for i in range(matrix_size)] for _ in range(matrix_size)]\n",
    "list_matrix2 = [[i for i in range(matrix_size)] for _ in range(matrix_size)]\n",
    "np_matrix1 = np.array(list_matrix1)\n",
    "np_matrix2 = np.array(list_matrix2)\n",
    "\n",
    "start = time.time()\n",
    "result_matrix_list = [[sum(a * b for a, b in zip(row, col)) for col in zip(*list_matrix2)] for row in list_matrix1]\n",
    "end = time.time()\n",
    "print(f\"Time taken for matrix multiplication with Python lists: {end - start:.5f} seconds\")\n",
    "\n",
    "\n",
    "start = time.time()\n",
    "result_matrix_np = np.dot(np_matrix1, np_matrix2)\n",
    "end = time.time()\n",
    "print(f\"Time taken for matrix multiplication with NumPy arrays: {end - start:.5f} seconds\")\n",
    "\n"
   ]
  },
  {
   "cell_type": "code",
   "execution_count": null,
   "id": "c0c80d73-2229-4e17-b332-cc2503941b78",
   "metadata": {},
   "outputs": [],
   "source": []
  }
 ],
 "metadata": {
  "kernelspec": {
   "display_name": "Python 3 (ipykernel)",
   "language": "python",
   "name": "python3"
  },
  "language_info": {
   "codemirror_mode": {
    "name": "ipython",
    "version": 3
   },
   "file_extension": ".py",
   "mimetype": "text/x-python",
   "name": "python",
   "nbconvert_exporter": "python",
   "pygments_lexer": "ipython3",
   "version": "3.13.0"
  }
 },
 "nbformat": 4,
 "nbformat_minor": 5
}
