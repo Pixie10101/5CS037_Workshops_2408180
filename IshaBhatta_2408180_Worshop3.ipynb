{
 "cells": [
  {
   "cell_type": "code",
   "execution_count": 10,
   "id": "3c59a10a-be1f-4a36-8486-1c1a7cd65c49",
   "metadata": {},
   "outputs": [
    {
     "name": "stdout",
     "output_type": "stream",
     "text": [
      "<class 'pandas.core.frame.DataFrame'>\n",
      "RangeIndex: 891 entries, 0 to 890\n",
      "Data columns (total 12 columns):\n",
      " #   Column       Non-Null Count  Dtype  \n",
      "---  ------       --------------  -----  \n",
      " 0   PassengerId  891 non-null    int64  \n",
      " 1   Survived     891 non-null    int64  \n",
      " 2   Pclass       891 non-null    int64  \n",
      " 3   Name         891 non-null    object \n",
      " 4   Sex          891 non-null    object \n",
      " 5   Age          714 non-null    float64\n",
      " 6   SibSp        891 non-null    int64  \n",
      " 7   Parch        891 non-null    int64  \n",
      " 8   Ticket       891 non-null    object \n",
      " 9   Fare         891 non-null    float64\n",
      " 10  Cabin        204 non-null    object \n",
      " 11  Embarked     889 non-null    object \n",
      "dtypes: float64(2), int64(5), object(5)\n",
      "memory usage: 83.7+ KB\n"
     ]
    }
   ],
   "source": [
    "# 3.1 Warm Up Exercises:\n",
    "# 1. Sorting and Subsetting:\n",
    "\n",
    "#1.Load the provided dataset and import in pandas DataFrame.\n",
    "import pandas as pd\n",
    "file_path = r\"I:/Second Year/AI Workshop/CSV/titanic_dataset.csv\"\n",
    "#Loading the titanic dataset\n",
    "\n",
    "try:\n",
    "    titanic_data=pd.read_csv(file_path)\n",
    "    dataframe=pd.read_csv(file_path)\n",
    "    dataframe.info()\n",
    "\n",
    "except Exception as e:\n",
    "    print(e)\n",
    "\n",
    "\n"
   ]
  },
  {
   "cell_type": "code",
   "execution_count": 9,
   "id": "bac4b72f-25e9-41d2-870e-e1a657dec12c",
   "metadata": {},
   "outputs": [
    {
     "name": "stdout",
     "output_type": "stream",
     "text": [
      "      Fare\n",
      "0   7.2500\n",
      "1  71.2833\n",
      "2   7.9250\n",
      "3  53.1000\n",
      "4   8.0500\n"
     ]
    }
   ],
   "source": [
    "import pandas as pd\n",
    "\n",
    "# Load the Titanic dataset\n",
    "file_path = r\"I:/Second Year/AI Workshop/CSV/titanic_dataset.csv\"\n",
    "try:\n",
    "    titanic_data = pd.read_csv(file_path)\n",
    "    \n",
    "    # Create a DataFrame with only the Fare column\n",
    "    fare = titanic_data[['Fare']]\n",
    "    \n",
    "    # Print the head of the Fare DataFrame\n",
    "    print(fare.head())\n",
    "except Exception as e:\n",
    "    print(e)\n"
   ]
  },
  {
   "cell_type": "code",
   "execution_count": 2,
   "id": "237e6b97-ce58-457f-89fa-db1b8a0289b2",
   "metadata": {},
   "outputs": [
    {
     "name": "stdout",
     "output_type": "stream",
     "text": [
      "   Pclass   Age\n",
      "0       3  22.0\n",
      "1       1  38.0\n",
      "2       3  26.0\n",
      "3       1  35.0\n",
      "4       3  35.0\n"
     ]
    }
   ],
   "source": [
    "#2.Create a DataFrame called class age that contains only the Pclass and Age columns of the Titanic dataset, in that order. Print the head of the result.\n",
    "import pandas as pd\n",
    "\n",
    "# Load the Titanic dataset\n",
    "file_path = r\"I:/Second Year/AI Workshop/CSV/titanic_dataset.csv\"\n",
    "try:\n",
    "    titanic_data = pd.read_csv(file_path)\n",
    "    class_age = titanic_data[['Pclass', 'Age']]#Create a DataFrame with only the Pclass and Age columns\n",
    "    print(class_age.head())# Print the head of the class_age DataFrame\n",
    "except Exception as e:\n",
    "    print(e)\n",
    "\n",
    "\n"
   ]
  },
  {
   "cell_type": "code",
   "execution_count": 4,
   "id": "723c97b2-a1ac-4f48-8f98-cb103507ce88",
   "metadata": {},
   "outputs": [
    {
     "name": "stdout",
     "output_type": "stream",
     "text": [
      "   Survived     Sex\n",
      "0         0    male\n",
      "1         1  female\n",
      "2         1  female\n",
      "3         1  female\n",
      "4         0    male\n"
     ]
    }
   ],
   "source": [
    "#3.Create a DataFrame called survived gender that contains the Survived and Sex columns of the Titanic dataset, in that order.Print the head of the result.\n",
    "import pandas as pd\n",
    "\n",
    "\n",
    "file_path = r\"I:/Second Year/AI Workshop/CSV/titanic_dataset.csv\"  \n",
    "try:\n",
    "    titanic_data = pd.read_csv(file_path)\n",
    "    survived_gender = titanic_data[['Survived', 'Sex']]# Create a DataFrame with only the Survived and Sex columns\n",
    "    print(survived_gender.head())# Print the head of the survived_gender DataFrame\n",
    "except Exception as e:\n",
    "    print(e)\n"
   ]
  },
  {
   "cell_type": "code",
   "execution_count": 6,
   "id": "0008293b-f55f-400a-b2c1-5eb960953d52",
   "metadata": {},
   "outputs": [
    {
     "name": "stdout",
     "output_type": "stream",
     "text": [
      "     PassengerId  Survived  Pclass  \\\n",
      "27            28         0       1   \n",
      "31            32         1       1   \n",
      "88            89         1       1   \n",
      "118          119         0       1   \n",
      "195          196         1       1   \n",
      "\n",
      "                                               Name     Sex   Age  SibSp  \\\n",
      "27                   Fortune, Mr. Charles Alexander    male  19.0      3   \n",
      "31   Spencer, Mrs. William Augustus (Marie Eugenie)  female   NaN      1   \n",
      "88                       Fortune, Miss. Mabel Helen  female  23.0      3   \n",
      "118                        Baxter, Mr. Quigg Edmond    male  24.0      0   \n",
      "195                            Lurette, Miss. Elise  female  58.0      0   \n",
      "\n",
      "     Parch    Ticket      Fare        Cabin Embarked  \n",
      "27       2     19950  263.0000  C23 C25 C27        S  \n",
      "31       0  PC 17569  146.5208          B78        C  \n",
      "88       2     19950  263.0000  C23 C25 C27        S  \n",
      "118      1  PC 17558  247.5208      B58 B60        C  \n",
      "195      0  PC 17569  146.5208          B80        C  \n"
     ]
    }
   ],
   "source": [
    "#Problem - 2 - Subsetting:\n",
    "#1. Filter the Titanic dataset for cases where the passenger’s fare is greater than 100, assigning it to fare gt 100.View the printed result.\n",
    "import pandas as pd\n",
    "\n",
    "# Load the Titanic dataset\n",
    "file_path=r\"I:/Second Year/AI Workshop/CSV/titanic_dataset.csv\" \n",
    "try:\n",
    "    titanic_data = pd.read_csv(file_path)\n",
    "    fare_greater_100 = titanic_data[titanic_data['Fare'] > 100]# Filter passengers with a fare greater than 100\n",
    "    print(fare_greater_100.head())# View the filtered result\n",
    "except Exception as e:\n",
    "    print(e)\n",
    "    \n"
   ]
  },
  {
   "cell_type": "code",
   "execution_count": 8,
   "id": "02ca72b2-dc01-4d05-8634-1dd35b0e15e3",
   "metadata": {},
   "outputs": [
    {
     "name": "stdout",
     "output_type": "stream",
     "text": [
      "    PassengerId  Survived  Pclass  \\\n",
      "1             2         1       1   \n",
      "3             4         1       1   \n",
      "6             7         0       1   \n",
      "11           12         1       1   \n",
      "23           24         1       1   \n",
      "\n",
      "                                                 Name     Sex   Age  SibSp  \\\n",
      "1   Cumings, Mrs. John Bradley (Florence Briggs Th...  female  38.0      1   \n",
      "3        Futrelle, Mrs. Jacques Heath (Lily May Peel)  female  35.0      1   \n",
      "6                             McCarthy, Mr. Timothy J    male  54.0      0   \n",
      "11                           Bonnell, Miss. Elizabeth  female  58.0      0   \n",
      "23                       Sloper, Mr. William Thompson    male  28.0      0   \n",
      "\n",
      "    Parch    Ticket     Fare Cabin Embarked  \n",
      "1       0  PC 17599  71.2833   C85        C  \n",
      "3       0    113803  53.1000  C123        S  \n",
      "6       0     17463  51.8625   E46        S  \n",
      "11      0    113783  26.5500  C103        S  \n",
      "23      0    113788  35.5000    A6        S  \n"
     ]
    }
   ],
   "source": [
    "#2.Filter the Titanic dataset for cases where the passenger’s class (Pclass) is 1, assigning it to first class.View the printed result.\n",
    "import pandas as p\n",
    "file_path=r\"I:/Second Year/AI Workshop/CSV/titanic_dataset.csv\"\n",
    "try:\n",
    "    titanic_data = pd.read_csv(file_path)\n",
    "    Pclass_equal_1 = titanic_data[titanic_data['Pclass']==1] # Filter passenger's dataset when Pclass is 1\n",
    "    print(Pclass_equal_1.head())#view the filtered result\n",
    "except Exception as e:\n",
    "    print(e)\n",
    "    \n",
    "    "
   ]
  },
  {
   "cell_type": "code",
   "execution_count": 3,
   "id": "882f5990-b0a6-4276-8419-0649887f5ca3",
   "metadata": {},
   "outputs": [
    {
     "name": "stdout",
     "output_type": "stream",
     "text": [
      "    PassengerId  Survived  Pclass                                  Name  \\\n",
      "7             8         0       3        Palsson, Master. Gosta Leonard   \n",
      "9            10         1       2   Nasser, Mrs. Nicholas (Adele Achem)   \n",
      "10           11         1       3       Sandstrom, Miss. Marguerite Rut   \n",
      "14           15         0       3  Vestrom, Miss. Hulda Amanda Adolfina   \n",
      "16           17         0       3                  Rice, Master. Eugene   \n",
      "\n",
      "       Sex   Age  SibSp  Parch   Ticket     Fare Cabin Embarked  \n",
      "7     male   2.0      3      1   349909  21.0750   NaN        S  \n",
      "9   female  14.0      1      0   237736  30.0708   NaN        C  \n",
      "10  female   4.0      1      1  PP 9549  16.7000    G6        S  \n",
      "14  female  14.0      0      0   350406   7.8542   NaN        S  \n",
      "16    male   2.0      4      1   382652  29.1250   NaN        Q  \n"
     ]
    }
   ],
   "source": [
    "#3.Filter the Titanic dataset for cases where the passenger’s age is less than 18 and the passenger is female (Sex is \"female\"), assigning it to female under 18. View the printed result.\n",
    "import pandas as pd\n",
    "file_path=r\"I:/Second Year/AI Workshop/CSV/titanic_dataset.csv\"\n",
    "try:\n",
    "    titanic_data = pd.read_csv(file_path)\n",
    "    age_under_18 = titanic_data[titanic_data['Age']<18]#Filter age under 18\n",
    "    print(age_under_18.head())#view the filtered result\n",
    "except Exception as e:\n",
    "    print(e)\n",
    "    \n",
    "    \n"
   ]
  },
  {
   "cell_type": "code",
   "execution_count": 5,
   "id": "6bae2f49-11a4-4f62-a036-d93e7da053a7",
   "metadata": {},
   "outputs": [
    {
     "name": "stdout",
     "output_type": "stream",
     "text": [
      "   PassengerId  Survived  Pclass  \\\n",
      "0            1         0       3   \n",
      "1            2         1       1   \n",
      "2            3         1       3   \n",
      "3            4         1       1   \n",
      "4            5         0       3   \n",
      "\n",
      "                                                Name     Sex   Age  SibSp  \\\n",
      "0                            Braund, Mr. Owen Harris    male  22.0      1   \n",
      "1  Cumings, Mrs. John Bradley (Florence Briggs Th...  female  38.0      1   \n",
      "2                             Heikkinen, Miss. Laina  female  26.0      0   \n",
      "3       Futrelle, Mrs. Jacques Heath (Lily May Peel)  female  35.0      1   \n",
      "4                           Allen, Mr. William Henry    male  35.0      0   \n",
      "\n",
      "   Parch            Ticket     Fare Cabin Embarked  \n",
      "0      0         A/5 21171   7.2500   NaN        S  \n",
      "1      0          PC 17599  71.2833   C85        C  \n",
      "2      0  STON/O2. 3101282   7.9250   NaN        S  \n",
      "3      0            113803  53.1000  C123        S  \n",
      "4      0            373450   8.0500   NaN        S  \n"
     ]
    }
   ],
   "source": [
    "#4.Subsetting Rows by Categorical variables:\n",
    "#1. Filter the Titanic dataset for passengers whose Embarked port is either \"C\" (Cherbourg) or \"S\"(Southampton), assigning the result to embarked c or s. View the printed result.\n",
    "import pandas as pd\n",
    "# Load the Titanic dataset\n",
    "file_path = r\"I:/Second Year/AI Workshop/CSV/titanic_dataset.csv\" \n",
    "try:\n",
    "    titanic_data = pd.read_csv(file_path)\n",
    "    embarked_c_or_s = titanic_data[titanic_data['Embarked'].isin(['C', 'S'])]# Filter for passengers whose Embarked port is either \"C\" or \"S\"\n",
    "    print(embarked_c_or_s.head())# Print the result\n",
    "except Exception as e:\n",
    "    print(e)\n",
    "    \n"
   ]
  },
  {
   "cell_type": "code",
   "execution_count": 7,
   "id": "a8396fa7-bf5a-449b-b581-52f8085d7486",
   "metadata": {},
   "outputs": [
    {
     "name": "stdout",
     "output_type": "stream",
     "text": [
      "    PassengerId  Survived  Pclass  \\\n",
      "1             2         1       1   \n",
      "3             4         1       1   \n",
      "6             7         0       1   \n",
      "9            10         1       2   \n",
      "11           12         1       1   \n",
      "\n",
      "                                                 Name     Sex   Age  SibSp  \\\n",
      "1   Cumings, Mrs. John Bradley (Florence Briggs Th...  female  38.0      1   \n",
      "3        Futrelle, Mrs. Jacques Heath (Lily May Peel)  female  35.0      1   \n",
      "6                             McCarthy, Mr. Timothy J    male  54.0      0   \n",
      "9                 Nasser, Mrs. Nicholas (Adele Achem)  female  14.0      1   \n",
      "11                           Bonnell, Miss. Elizabeth  female  58.0      0   \n",
      "\n",
      "    Parch    Ticket     Fare Cabin Embarked  \n",
      "1       0  PC 17599  71.2833   C85        C  \n",
      "3       0    113803  53.1000  C123        S  \n",
      "6       0     17463  51.8625   E46        S  \n",
      "9       0    237736  30.0708   NaN        C  \n",
      "11      0    113783  26.5500  C103        S  \n"
     ]
    }
   ],
   "source": [
    "#2.Filter the Titanic dataset for passengers whose Pclass is in the list [1, 2] (indicating first or second class), assigning the result to first second class.View the printed result.\n",
    "\n",
    "import pandas as pd\n",
    "try:\n",
    "    file_path = r\"I:/Second Year/AI Workshop/CSV/titanic_dataset.csv\"  \n",
    "    titanic_data = pd.read_csv(file_path)\n",
    "    first_second_class = titanic_data[titanic_data['Pclass'].isin([1, 2])]# Filter for passengers whose Pclass is in [1, 2]\n",
    "    print(first_second_class.head())# Print the result\n",
    "\n",
    "except Exception as e:\n",
    "    print(e)\n",
    "   \n",
    "\n",
    "    \n",
    "    \n",
    "    \n",
    "\n",
    " "
   ]
  },
  {
   "cell_type": "code",
   "execution_count": 9,
   "id": "98b0a78c-1d06-4a20-8401-4c1b70a91486",
   "metadata": {},
   "outputs": [
    {
     "name": "stdout",
     "output_type": "stream",
     "text": [
      "    PassengerId  Survived  Pclass  \\\n",
      "1             2         1       1   \n",
      "3             4         1       1   \n",
      "6             7         0       1   \n",
      "9            10         1       2   \n",
      "11           12         1       1   \n",
      "\n",
      "                                                 Name     Sex   Age  SibSp  \\\n",
      "1   Cumings, Mrs. John Bradley (Florence Briggs Th...  female  38.0      1   \n",
      "3        Futrelle, Mrs. Jacques Heath (Lily May Peel)  female  35.0      1   \n",
      "6                             McCarthy, Mr. Timothy J    male  54.0      0   \n",
      "9                 Nasser, Mrs. Nicholas (Adele Achem)  female  14.0      1   \n",
      "11                           Bonnell, Miss. Elizabeth  female  58.0      0   \n",
      "\n",
      "    Parch    Ticket     Fare Cabin Embarked  \n",
      "1       0  PC 17599  71.2833   C85        C  \n",
      "3       0    113803  53.1000  C123        S  \n",
      "6       0     17463  51.8625   E46        S  \n",
      "9       0    237736  30.0708   NaN        C  \n",
      "11      0    113783  26.5500  C103        S  \n"
     ]
    }
   ],
   "source": [
    "#3.2 Exploratory Data Analysis Practice Exercise-\n",
    "#Which passenger had the highest fare paid relative to their age?\n",
    "#1.Add a column to the Titanic dataset, fare per year, containing the fare divided by the age of the passenger(i.e.Fare/Age).\n",
    "import pandas as pd\n",
    "\n",
    "file_path = r\"I:/Second Year/AI Workshop/CSV/titanic_dataset.csv\"\n",
    "try:\n",
    "    titanic_data = pd.read_csv(file_path)\n",
    "    first_second_class = titanic_data[titanic_data['Pclass'].isin([1, 2])] # Filter for passengers whose Pclass is in [1, 2]\n",
    "    print(first_second_class.head())# Print the result\n",
    "\n",
    "except Exception as e:\n",
    "    print(e)"
   ]
  },
  {
   "cell_type": "code",
   "execution_count": 10,
   "id": "8e1d6cc9-35e2-4aec-a01a-dd13f690b949",
   "metadata": {},
   "outputs": [
    {
     "name": "stdout",
     "output_type": "stream",
     "text": [
      "   PassengerId     Fare   Age  Fare_per_Year\n",
      "0            1   7.2500  22.0       0.329545\n",
      "1            2  71.2833  38.0       1.875876\n",
      "2            3   7.9250  26.0       0.304808\n",
      "3            4  53.1000  35.0       1.517143\n",
      "4            5   8.0500  35.0       0.230000\n"
     ]
    }
   ],
   "source": [
    "#2.Subset rows where fare per year is higher than 5, assigning this to high fare age.\n",
    "import pandas as pd\n",
    "\n",
    "file_path = r\"I:/Second Year/AI Workshop/CSV/titanic_dataset.csv\"\n",
    "\n",
    "try:\n",
    "    # Load the dataset\n",
    "    titanic_data = pd.read_csv(file_path)\n",
    "    \n",
    "    # Fill missing Age values with the median\n",
    "    titanic_data['Age'] = titanic_data['Age'].fillna(titanic_data['Age'].median())\n",
    "    \n",
    "    # Add the new column \"Fare per Year\"\n",
    "    titanic_data['Fare_per_Year'] = titanic_data['Fare'] / titanic_data['Age']\n",
    "    \n",
    "    # Print the first few rows of the dataset to verify\n",
    "    print(titanic_data[['PassengerId', 'Fare', 'Age', 'Fare_per_Year']].head())\n",
    "\n",
    "except Exception as e:\n",
    "    print(e)\n"
   ]
  },
  {
   "cell_type": "code",
   "execution_count": 8,
   "id": "91d064b6-f2e6-45ef-a92c-32aab07b506d",
   "metadata": {},
   "outputs": [
    {
     "name": "stdout",
     "output_type": "stream",
     "text": [
      "     PassengerId      Fare   Age  Fare_per_Year\n",
      "305          306  151.5500  0.92     164.728261\n",
      "297          298  151.5500  2.00      75.775000\n",
      "386          387   46.9000  1.00      46.900000\n",
      "164          165   39.6875  1.00      39.687500\n",
      "183          184   39.0000  1.00      39.000000\n"
     ]
    }
   ],
   "source": [
    "#3 Sort high fare age by descending fare per year, assigning this to high fare age srt.\n",
    "import pandas as pd\n",
    "file_path = r\"I:/Second Year/AI Workshop/CSV/titanic_dataset.csv\"\n",
    "\n",
    "try:\n",
    "    # Load the dataset\n",
    "    titanic_data = pd.read_csv(file_path)\n",
    "    \n",
    "    #Handle missing Age values by filling with the median\n",
    "    titanic_data['Age'] = titanic_data['Age'].fillna(titanic_data['Age'].median())\n",
    "    \n",
    "    #Add the new column 'Fare per Year' (Fare/Age)\n",
    "    titanic_data['Fare_per_Year'] = titanic_data['Fare'] / titanic_data['Age']\n",
    "\n",
    "    \n",
    "    #Subset the rows where 'Fare_per_Year' is greater than 5\n",
    "    high_fare_age = titanic_data[titanic_data['Fare_per_Year'] > 5]\n",
    "    \n",
    "    #Sort by 'Fare_per_Year' in descending order\n",
    "    high_fare_age_srt = high_fare_age.sort_values(by='Fare_per_Year', ascending=False)\n",
    "    print(high_fare_age_srt[['PassengerId', 'Fare', 'Age', 'Fare_per_Year']].head())\n",
    "\n",
    "except Exception as e:\n",
    "    print(e)\n"
   ]
  },
  {
   "cell_type": "code",
   "execution_count": 6,
   "id": "603d6b4e-47a9-4956-a4d8-f0203f71a44f",
   "metadata": {},
   "outputs": [
    {
     "name": "stdout",
     "output_type": "stream",
     "text": [
      "                                Name  Fare_per_Year\n",
      "305   Allison, Master. Hudson Trevor     164.728261\n",
      "297     Allison, Miss. Helen Loraine      75.775000\n",
      "386  Goodwin, Master. Sidney Leonard      46.900000\n",
      "164     Panula, Master. Eino Viljami      39.687500\n",
      "183        Becker, Master. Richard F      39.000000\n"
     ]
    }
   ],
   "source": [
    "#4 Select only the Name and fare per year columns of high fare age srt and save the result as result.\n",
    "\n",
    "result = high_fare_age_srt[['Name', 'Fare_per_Year']]\n",
    "print(result.head())# Display the result to verify\n"
   ]
  },
  {
   "cell_type": "code",
   "execution_count": 11,
   "id": "5f139ed3-76ca-4486-93ab-60efcd0770e4",
   "metadata": {},
   "outputs": [
    {
     "name": "stdout",
     "output_type": "stream",
     "text": [
      "Saved successfully!\n"
     ]
    }
   ],
   "source": [
    "#4 Save the result\n",
    "try:\n",
    "    # Save the result to a CSV file\n",
    "    result.to_csv(r\"I:/Second Year/AI Workshop/CSV/highfare_result.csv\", index=False)\n",
    "    print(\"Saved successfully!\")\n",
    "\n",
    "except Exception as e:\n",
    "    # Print error message if something goes wrong\n",
    "    print(f\"Error saving file: {e}\")\n",
    "\n"
   ]
  },
  {
   "cell_type": "code",
   "execution_count": 12,
   "id": "6e385d90-6414-4870-bf7d-6f66a39f2c58",
   "metadata": {},
   "outputs": [
    {
     "name": "stdout",
     "output_type": "stream",
     "text": [
      "                              Name  Fare_per_Year\n",
      "0   Allison, Master. Hudson Trevor     164.728261\n",
      "1     Allison, Miss. Helen Loraine      75.775000\n",
      "2  Goodwin, Master. Sidney Leonard      46.900000\n",
      "3     Panula, Master. Eino Viljami      39.687500\n",
      "4        Becker, Master. Richard F      39.000000\n"
     ]
    }
   ],
   "source": [
    "#5Look at the result.\n",
    "\n",
    "# Load the saved CSV file to verify its contents\n",
    "saved_result = pd.read_csv(r\"I:/Second Year/AI Workshop/CSV/highfare_result.csv\")\n",
    "\n",
    "# Display the first few rows of the saved result\n",
    "print(saved_result.head())\n"
   ]
  },
  {
   "cell_type": "code",
   "execution_count": 13,
   "id": "9f84ef10-68c0-4ef3-9105-272dc6f5f098",
   "metadata": {},
   "outputs": [
    {
     "name": "stdout",
     "output_type": "stream",
     "text": [
      "   PassengerId     Fare  Pclass  fare_per_class\n",
      "0            1   7.2500       3        2.416667\n",
      "1            2  71.2833       1       71.283300\n",
      "2            3   7.9250       3        2.641667\n",
      "3            4  53.1000       1       53.100000\n",
      "4            5   8.0500       3        2.683333\n"
     ]
    }
   ],
   "source": [
    "#Which adult male passenger (age ≥ 18 and Sex is ’male’) paid the highest fare relative to their class?\n",
    "#1. Add a column to the Titanic dataset, fare per class, containing the fare divided by the passenger class i.e. Fare / Pclass.\n",
    "\n",
    "import pandas as pd\n",
    "\n",
    "file_path = r\"I:/Second Year/AI Workshop/CSV/titanic_dataset.csv\"\n",
    "\n",
    "try:\n",
    "    titanic_data = pd.read_csv(file_path) # Load the dataset\n",
    "    \n",
    "    #Add a new column 'fare_per_class' which is Fare / Pclass\n",
    "    titanic_data['fare_per_class'] = titanic_data['Fare'] / titanic_data['Pclass']\n",
    "    \n",
    "    # Print \n",
    "    print(titanic_data[['PassengerId', 'Fare', 'Pclass', 'fare_per_class']].head())\n",
    "\n",
    "except Exception as e:\n",
    "    print(f\"Error: {e}\")\n",
    "\n"
   ]
  },
  {
   "cell_type": "code",
   "execution_count": 14,
   "id": "4fb3148e-707a-4055-a81c-4a78cbaf7c92",
   "metadata": {},
   "outputs": [
    {
     "name": "stdout",
     "output_type": "stream",
     "text": [
      "    PassengerId   Sex   Age     Fare  Pclass  fare_per_class\n",
      "0             1  male  22.0   7.2500       3        2.416667\n",
      "4             5  male  35.0   8.0500       3        2.683333\n",
      "6             7  male  54.0  51.8625       1       51.862500\n",
      "12           13  male  20.0   8.0500       3        2.683333\n",
      "13           14  male  39.0  31.2750       3       10.425000\n"
     ]
    }
   ],
   "source": [
    "#2.Subset rows where the passenger is male (Sex is ”male”) and an adult (Age is greater than or equal to 18), assigning this to adult males.\n",
    "import pandas as pd\n",
    "\n",
    "file_path = r\"I:/Second Year/AI Workshop/CSV/titanic_dataset.csv\"\n",
    "\n",
    "try:\n",
    "    # Load the dataset\n",
    "    titanic_data = pd.read_csv(file_path)\n",
    "    \n",
    "    # Step 1: Add the 'fare_per_class' column\n",
    "    titanic_data['fare_per_class'] = titanic_data['Fare'] / titanic_data['Pclass']\n",
    "    \n",
    "    # Step 2: Subset rows where passenger is male and age >= 18\n",
    "    adult_males = titanic_data[(titanic_data['Sex'] == 'male') & (titanic_data['Age'] >= 18)]\n",
    "    \n",
    "    # Print the first few rows of the subset to verify\n",
    "    print(adult_males[['PassengerId', 'Sex', 'Age', 'Fare', 'Pclass', 'fare_per_class']].head())\n",
    "\n",
    "except Exception as e:\n",
    "    print(f\"Error: {e}\")\n"
   ]
  },
  {
   "cell_type": "code",
   "execution_count": 15,
   "id": "42a4c63a-dce3-44f8-821c-7495580d4ce4",
   "metadata": {},
   "outputs": [
    {
     "name": "stdout",
     "output_type": "stream",
     "text": [
      "     PassengerId   Sex   Age      Fare  Pclass  fare_per_class\n",
      "737          738  male  35.0  512.3292       1        512.3292\n",
      "679          680  male  36.0  512.3292       1        512.3292\n",
      "438          439  male  64.0  263.0000       1        263.0000\n",
      "27            28  male  19.0  263.0000       1        263.0000\n",
      "118          119  male  24.0  247.5208       1        247.5208\n"
     ]
    }
   ],
   "source": [
    "#3.Sort adult males by descending fare per class, assigning this to adult males srt.\n",
    "import pandas as pd\n",
    "file_path = r\"I:/Second Year/AI Workshop/CSV/titanic_dataset.csv\"\n",
    "\n",
    "try:\n",
    "    #Load the dataset\n",
    "    titanic_data = pd.read_csv(file_path)\n",
    "    \n",
    "    #Add the 'fare_per_class' column\n",
    "    titanic_data['fare_per_class'] = titanic_data['Fare'] / titanic_data['Pclass']\n",
    "    \n",
    "    #Subset rows where passenger is male and age >= 18\n",
    "    adult_males = titanic_data[(titanic_data['Sex'] == 'male') & (titanic_data['Age'] >= 18)]\n",
    "    \n",
    "    #Sort adult males by 'fare_per_class' in descending order\n",
    "    adult_males_srt = adult_males.sort_values(by='fare_per_class', ascending=False)\n",
    "    \n",
    "    # Print the first few rows of the sorted dataframe to verify\n",
    "    print(adult_males_srt[['PassengerId', 'Sex', 'Age', 'Fare', 'Pclass', 'fare_per_class']].head())\n",
    "\n",
    "except Exception as e:\n",
    "    print(f\"Error: {e}\")\n"
   ]
  },
  {
   "cell_type": "code",
   "execution_count": 16,
   "id": "60974903-1a05-40c4-bc92-7c1be984f1db",
   "metadata": {},
   "outputs": [
    {
     "name": "stdout",
     "output_type": "stream",
     "text": [
      "                                   Name   Age  fare_per_class\n",
      "737              Lesurer, Mr. Gustave J  35.0        512.3292\n",
      "679  Cardeza, Mr. Thomas Drake Martinez  36.0        512.3292\n",
      "438                   Fortune, Mr. Mark  64.0        263.0000\n",
      "27       Fortune, Mr. Charles Alexander  19.0        263.0000\n",
      "118            Baxter, Mr. Quigg Edmond  24.0        247.5208\n"
     ]
    }
   ],
   "source": [
    "#5.\n",
    "import pandas as pd\n",
    "file_path = r\"I:/Second Year/AI Workshop/CSV/titanic_dataset.csv\"\n",
    "\n",
    "try:\n",
    "    # Load the dataset\n",
    "    titanic_data = pd.read_csv(file_path)\n",
    "    \n",
    "    # Add the 'fare_per_class' column\n",
    "    titanic_data['fare_per_class'] = titanic_data['Fare'] / titanic_data['Pclass']\n",
    "    \n",
    "    #Subset rows where passenger is male and age >= 18\n",
    "    adult_males = titanic_data[(titanic_data['Sex'] == 'male') & (titanic_data['Age'] >= 18)]\n",
    "    \n",
    "    #Sort adult males by 'fare_per_class' in descending order\n",
    "    adult_males_srt = adult_males.sort_values(by='fare_per_class', ascending=False)\n",
    "    \n",
    "    #Select only 'Name', 'Age', and 'fare_per_class' columns and save as 'result'\n",
    "    result = adult_males_srt[['Name', 'Age', 'fare_per_class']]\n",
    "    \n",
    "    # Print the first few rows of the result to verify\n",
    "    print(result.head())\n",
    "\n",
    "except Exception as e:\n",
    "    print(f\"Error: {e}\")\n"
   ]
  },
  {
   "cell_type": "code",
   "execution_count": 17,
   "id": "392da72a-6f22-4bb3-aa91-7bcf371c2d1d",
   "metadata": {},
   "outputs": [
    {
     "name": "stdout",
     "output_type": "stream",
     "text": [
      "The total fare paid across all passengers is: 28693.9493\n"
     ]
    }
   ],
   "source": [
    "#3 Exploratory Data Analysis with Group-by Method Practice Exercise:\n",
    "#What percent of the total fare revenue came from each passenger class?\n",
    "import pandas as pd\n",
    "\n",
    "file_path = r\"I:/Second Year/AI Workshop/CSV/titanic_dataset.csv\"\n",
    "\n",
    "try:\n",
    "    # Load the dataset\n",
    "    titanic_data = pd.read_csv(file_path)\n",
    "    \n",
    "    # Calculate the total fare paid by all passengers\n",
    "    total_fare = titanic_data['Fare'].sum()\n",
    "    \n",
    "    # Print the total fare\n",
    "    print(f\"The total fare paid across all passengers is: {total_fare}\")\n",
    "    \n",
    "except Exception as e:\n",
    "    print(f\"Error: {e}\")\n"
   ]
  },
  {
   "cell_type": "code",
   "execution_count": 18,
   "id": "25f2cdec-2bfa-4acf-b857-69c8026d65b2",
   "metadata": {},
   "outputs": [
    {
     "name": "stdout",
     "output_type": "stream",
     "text": [
      "The total fare paid by first class passengers is: 18177.4125\n"
     ]
    }
   ],
   "source": [
    "#2.Subset for passengers in first class (Pclass is 1) and calculate their total fare.\n",
    "import pandas as pd\n",
    "\n",
    "file_path = r\"I:/Second Year/AI Workshop/CSV/titanic_dataset.csv\"\n",
    "\n",
    "try:\n",
    "    # Load the dataset\n",
    "    titanic_data = pd.read_csv(file_path)\n",
    "    \n",
    "    # Subset for passengers in first class (Pclass is 1)\n",
    "    first_class_passengers = titanic_data[titanic_data['Pclass'] == 1]\n",
    "    \n",
    "    # Calculate the total fare for first class passengers\n",
    "    total_fare_first_class = first_class_passengers['Fare'].sum()\n",
    "    \n",
    "    # Print the total fare for first class passengers\n",
    "    print(f\"The total fare paid by first class passengers is: {total_fare_first_class}\")\n",
    "    \n",
    "except Exception as e:\n",
    "    print(f\"Error: {e}\")\n"
   ]
  },
  {
   "cell_type": "code",
   "execution_count": 19,
   "id": "c13288bf-88e5-4f84-898b-317c9c9c6b4e",
   "metadata": {},
   "outputs": [
    {
     "name": "stdout",
     "output_type": "stream",
     "text": [
      "The total fare paid by second class passengers is: 3801.8417\n",
      "The total fare paid by third class passengers is: 6714.6951\n"
     ]
    }
   ],
   "source": [
    "#3.Do the same for second class (Pclass is 2) and third class (Pclass is 3).\n",
    "import pandas as pd\n",
    "\n",
    "file_path = r\"I:/Second Year/AI Workshop/CSV/titanic_dataset.csv\"\n",
    "\n",
    "try:\n",
    "    # Load the dataset\n",
    "    titanic_data = pd.read_csv(file_path)\n",
    "    \n",
    "    # Subset for passengers in second class (Pclass is 2)\n",
    "    second_class_passengers = titanic_data[titanic_data['Pclass'] == 2]\n",
    "    total_fare_second_class = second_class_passengers['Fare'].sum()\n",
    "    \n",
    "    # Subset for passengers in third class (Pclass is 3)\n",
    "    third_class_passengers = titanic_data[titanic_data['Pclass'] == 3]\n",
    "    total_fare_third_class = third_class_passengers['Fare'].sum()\n",
    "    \n",
    "    # Print the total fare for second class and third class passengers\n",
    "    print(f\"The total fare paid by second class passengers is: {total_fare_second_class}\")\n",
    "    print(f\"The total fare paid by third class passengers is: {total_fare_third_class}\")\n",
    "    \n",
    "except Exception as e:\n",
    "    print(f\"Error: {e}\")\n"
   ]
  },
  {
   "cell_type": "code",
   "execution_count": 20,
   "id": "e4fa6028-5984-451c-b40d-a353efea7387",
   "metadata": {},
   "outputs": [
    {
     "name": "stdout",
     "output_type": "stream",
     "text": [
      "Total fares for each class: [np.float64(18177.4125), np.float64(3801.8417), np.float64(6714.6951)]\n"
     ]
    }
   ],
   "source": [
    "#4.Combine the fare totals from first, second, and third classes into a list.\n",
    "import pandas as pd\n",
    "\n",
    "file_path = r\"I:/Second Year/AI Workshop/CSV/titanic_dataset.csv\"\n",
    "\n",
    "try:\n",
    "    # Load the dataset\n",
    "    titanic_data = pd.read_csv(file_path)\n",
    "    \n",
    "    # Subset for passengers in first class (Pclass is 1)\n",
    "    first_class_passengers = titanic_data[titanic_data['Pclass'] == 1]\n",
    "    total_fare_first_class = first_class_passengers['Fare'].sum()\n",
    "    \n",
    "    # Subset for passengers in second class (Pclass is 2)\n",
    "    second_class_passengers = titanic_data[titanic_data['Pclass'] == 2]\n",
    "    total_fare_second_class = second_class_passengers['Fare'].sum()\n",
    "    \n",
    "    # Subset for passengers in third class (Pclass is 3)\n",
    "    third_class_passengers = titanic_data[titanic_data['Pclass'] == 3]\n",
    "    total_fare_third_class = third_class_passengers['Fare'].sum()\n",
    "    \n",
    "    # Combine the fare totals into a list\n",
    "    fare_totals = [total_fare_first_class, total_fare_second_class, total_fare_third_class]\n",
    "    \n",
    "    # Print the fare totals list\n",
    "    print(f\"Total fares for each class: {fare_totals}\")\n",
    "    \n",
    "except Exception as e:\n",
    "    print(f\"Error: {e}\")\n",
    "\n"
   ]
  },
  {
   "cell_type": "code",
   "execution_count": 23,
   "id": "e73dbfaf-dd0c-4db4-869c-28b4a520fa79",
   "metadata": {},
   "outputs": [
    {
     "name": "stdout",
     "output_type": "stream",
     "text": [
      "Proportion of fare revenue by class:\n",
      "First Class: 0.6335\n",
      "Second Class: 0.1325\n",
      "Third Class: 0.2340\n"
     ]
    }
   ],
   "source": [
    "#5.\n",
    "import pandas as pd\n",
    "\n",
    "# Define file path to the Titanic dataset\n",
    "file_path = r\"I:/Second Year/AI Workshop/CSV/titanic_dataset.csv\"\n",
    "\n",
    "try:\n",
    "    # Load the dataset\n",
    "    titanic_data = pd.read_csv(file_path)\n",
    "    \n",
    "    # Subset for passengers in first class (Pclass is 1)\n",
    "    first_class_passengers = titanic_data[titanic_data['Pclass'] == 1]\n",
    "    total_fare_first_class = first_class_passengers['Fare'].sum()\n",
    "    \n",
    "    # Subset for passengers in second class (Pclass is 2)\n",
    "    second_class_passengers = titanic_data[titanic_data['Pclass'] == 2]\n",
    "    total_fare_second_class = second_class_passengers['Fare'].sum()\n",
    "    \n",
    "    # Subset for passengers in third class (Pclass is 3)\n",
    "    third_class_passengers = titanic_data[titanic_data['Pclass'] == 3]\n",
    "    total_fare_third_class = third_class_passengers['Fare'].sum()\n",
    "    \n",
    "    # Calculate the overall total fare paid across all passengers\n",
    "    total_fare_overall = titanic_data['Fare'].sum()\n",
    "    \n",
    "    # Calculate the proportion of fare revenue by class\n",
    "    proportion_first_class = total_fare_first_class / total_fare_overall\n",
    "    proportion_second_class = total_fare_second_class / total_fare_overall\n",
    "    proportion_third_class = total_fare_third_class / total_fare_overall\n",
    "    \n",
    "    # Print the proportions for each class\n",
    "    print(f\"Proportion of fare revenue by class:\")\n",
    "    print(f\"First Class: {proportion_first_class:.4f}\")\n",
    "    print(f\"Second Class: {proportion_second_class:.4f}\")\n",
    "    print(f\"Third Class: {proportion_third_class:.4f}\")\n",
    "    \n",
    "except Exception as e:\n",
    "    print(f\"Error: {e}\")\n"
   ]
  },
  {
   "cell_type": "code",
   "execution_count": 24,
   "id": "e966d1ee-a8b4-4be2-bd1f-ff5a53d3e634",
   "metadata": {},
   "outputs": [
    {
     "name": "stdout",
     "output_type": "stream",
     "text": [
      "   PassengerId   Age age group\n",
      "0            1  22.0     adult\n",
      "1            2  38.0     adult\n",
      "2            3  26.0     adult\n",
      "3            4  35.0     adult\n",
      "4            5  35.0     adult\n"
     ]
    }
   ],
   "source": [
    "#What percent of the total number of passengers on the Titanic belonged to each age group(e.g., child, adult, senior)?\n",
    "#1. Create a new column, age group, that categorizes passengers into \"child\" (age < 18), \"adult\" (age 18{64), and \"senior\" (age 65 and above).\n",
    "\n",
    "import pandas as pd\n",
    "\n",
    "file_path = r\"I:/Second Year/AI Workshop/CSV/titanic_dataset.csv\"\n",
    "\n",
    "try:\n",
    "    # Load the dataset\n",
    "    titanic_data = pd.read_csv(file_path)\n",
    "    \n",
    "    # Create a new column 'age group' based on the conditions\n",
    "    def categorize_age(age):\n",
    "        if age < 18:\n",
    "            return 'child'\n",
    "        elif 18 <= age < 65:\n",
    "            return 'adult'\n",
    "        else:\n",
    "            return 'senior'\n",
    "\n",
    "    # Apply the function to the 'Age' column to create the 'age group' column\n",
    "    titanic_data['age group'] = titanic_data['Age'].apply(categorize_age)\n",
    "    \n",
    "    # Print the first few rows to verify the new column\n",
    "    print(titanic_data[['PassengerId', 'Age', 'age group']].head())\n",
    "    \n",
    "except Exception as e:\n",
    "    print(f\"Error: {e}\")\n"
   ]
  },
  {
   "cell_type": "code",
   "execution_count": 25,
   "id": "1b6cd3b5-305a-4bd1-8ca8-5814453d854a",
   "metadata": {},
   "outputs": [
    {
     "name": "stdout",
     "output_type": "stream",
     "text": [
      "Total number of passengers: 891\n"
     ]
    }
   ],
   "source": [
    "#2.Calculate the total number of passengers on the Titanic.\n",
    "import pandas as pd\n",
    "\n",
    "# Define file path to the Titanic dataset\n",
    "file_path = r\"I:/Second Year/AI Workshop/CSV/titanic_dataset.csv\"\n",
    "\n",
    "try:\n",
    "    # Load the dataset\n",
    "    titanic_data = pd.read_csv(file_path)\n",
    "    \n",
    "    # Calculate the total number of passengers\n",
    "    total_passengers = len(titanic_data)\n",
    "    \n",
    "    # Alternatively, you can use the shape attribute\n",
    "    # total_passengers = titanic_data.shape[0]\n",
    "    \n",
    "    # Print the result\n",
    "    print(f\"Total number of passengers: {total_passengers}\")\n",
    "    \n",
    "except Exception as e:\n",
    "    print(f\"Error: {e}\")\n"
   ]
  },
  {
   "cell_type": "code",
   "execution_count": 26,
   "id": "99057397-4c28-43f5-b902-61e31b900181",
   "metadata": {},
   "outputs": [
    {
     "name": "stdout",
     "output_type": "stream",
     "text": [
      "Number of passengers in each age group:\n",
      "age group\n",
      "adult     590\n",
      "senior    188\n",
      "child     113\n",
      "Name: count, dtype: int64\n"
     ]
    }
   ],
   "source": [
    "#3.Count the number of passengers in each age group.\n",
    "import pandas as pd\n",
    "\n",
    "file_path = r\"I:/Second Year/AI Workshop/CSV/titanic_dataset.csv\"\n",
    "\n",
    "try:\n",
    "    # Load the dataset\n",
    "    titanic_data = pd.read_csv(file_path)\n",
    "    \n",
    "    # Create the 'age group' column if not already created\n",
    "    def categorize_age(age):\n",
    "        if age < 18:\n",
    "            return 'child'\n",
    "        elif 18 <= age < 65:\n",
    "            return 'adult'\n",
    "        else:\n",
    "            return 'senior'\n",
    "\n",
    "    # Apply the function to the 'Age' column to create the 'age group' column\n",
    "    titanic_data['age group'] = titanic_data['Age'].apply(categorize_age)\n",
    "    \n",
    "    # Count the number of passengers in each age group\n",
    "    age_group_counts = titanic_data['age group'].value_counts()\n",
    "    \n",
    "    # Print the result\n",
    "    print(\"Number of passengers in each age group:\")\n",
    "    print(age_group_counts)\n",
    "    \n",
    "except Exception as e:\n",
    "    print(f\"Error: {e}\")\n"
   ]
  },
  {
   "cell_type": "code",
   "execution_count": 27,
   "id": "518964c9-855e-46b5-8c8f-a19b3b0276c3",
   "metadata": {},
   "outputs": [
    {
     "name": "stdout",
     "output_type": "stream",
     "text": [
      "Proportion of passengers in each age group:\n",
      "age group\n",
      "adult     0.662177\n",
      "senior    0.210999\n",
      "child     0.126824\n",
      "Name: count, dtype: float64\n"
     ]
    }
   ],
   "source": [
    "#4.Divide the count of each age group by the total number of passengers to get the proportion of passengers in each age group.\n",
    "import pandas as pd\n",
    "file_path = r\"I:/Second Year/AI Workshop/CSV/titanic_dataset.csv\"\n",
    "\n",
    "try:\n",
    "    # Load the dataset\n",
    "    titanic_data = pd.read_csv(file_path)\n",
    "    \n",
    "    # Create the 'age group' column if not already created\n",
    "    def categorize_age(age):\n",
    "        if age < 18:\n",
    "            return 'child'\n",
    "        elif 18 <= age < 65:\n",
    "            return 'adult'\n",
    "        else:\n",
    "            return 'senior'\n",
    "\n",
    "    # Apply the function to the 'Age' column to create the 'age group' column\n",
    "    titanic_data['age group'] = titanic_data['Age'].apply(categorize_age)\n",
    "    \n",
    "    # Count the number of passengers in each age group\n",
    "    age_group_counts = titanic_data['age group'].value_counts()\n",
    "    \n",
    "    # Calculate the total number of passengers\n",
    "    total_passengers = len(titanic_data)\n",
    "    \n",
    "    # Calculate the proportion of passengers in each age group\n",
    "    age_group_proportions = age_group_counts / total_passengers\n",
    "    \n",
    "    # Print the proportions for each age group\n",
    "    print(\"Proportion of passengers in each age group:\")\n",
    "    print(age_group_proportions)\n",
    "    \n",
    "except Exception as e:\n",
    "    print(f\"Error: {e}\")\n"
   ]
  },
  {
   "cell_type": "code",
   "execution_count": 28,
   "id": "f862b8a7-fdc5-4788-912f-586423f53219",
   "metadata": {},
   "outputs": [
    {
     "name": "stdout",
     "output_type": "stream",
     "text": [
      "Proportion of passengers in each age group (as percentage):\n",
      "age group\n",
      "adult     66.217733\n",
      "senior    21.099888\n",
      "child     12.682379\n",
      "Name: count, dtype: float64\n"
     ]
    }
   ],
   "source": [
    "#5.5. Display the proportion as a percentage.\n",
    "import pandas as pd\n",
    "\n",
    "file_path = r\"I:/Second Year/AI Workshop/CSV/titanic_dataset.csv\"\n",
    "\n",
    "try:\n",
    "    # Load the dataset\n",
    "    titanic_data = pd.read_csv(file_path)\n",
    "    \n",
    "    # Create the 'age group' column if not already created\n",
    "    def categorize_age(age):\n",
    "        if age < 18:\n",
    "            return 'child'\n",
    "        elif 18 <= age < 65:\n",
    "            return 'adult'\n",
    "        else:\n",
    "            return 'senior'\n",
    "\n",
    "    # Apply the function to the 'Age' column to create the 'age group' column\n",
    "    titanic_data['age group'] = titanic_data['Age'].apply(categorize_age)\n",
    "    \n",
    "    # Count the number of passengers in each age group\n",
    "    age_group_counts = titanic_data['age group'].value_counts()\n",
    "    \n",
    "    # Calculate the total number of passengers\n",
    "    total_passengers = len(titanic_data)\n",
    "    \n",
    "    # Calculate the proportion of passengers in each age group\n",
    "    age_group_proportions = age_group_counts / total_passengers\n",
    "    \n",
    "    # Convert the proportions to percentages\n",
    "    age_group_percentages = age_group_proportions * 100\n",
    "    \n",
    "    # Print the percentages for each age group\n",
    "    print(\"Proportion of passengers in each age group (as percentage):\")\n",
    "    print(age_group_percentages)\n",
    "    \n",
    "except Exception as e:\n",
    "    print(f\"Error: {e}\")\n"
   ]
  },
  {
   "cell_type": "code",
   "execution_count": null,
   "id": "9f09fb52-64e6-4b6c-bf58-d128abf16f81",
   "metadata": {},
   "outputs": [],
   "source": []
  }
 ],
 "metadata": {
  "kernelspec": {
   "display_name": "Python 3 (ipykernel)",
   "language": "python",
   "name": "python3"
  },
  "language_info": {
   "codemirror_mode": {
    "name": "ipython",
    "version": 3
   },
   "file_extension": ".py",
   "mimetype": "text/x-python",
   "name": "python",
   "nbconvert_exporter": "python",
   "pygments_lexer": "ipython3",
   "version": "3.13.0"
  }
 },
 "nbformat": 4,
 "nbformat_minor": 5
}
