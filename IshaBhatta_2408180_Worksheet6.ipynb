{
 "cells": [
  {
   "cell_type": "code",
   "execution_count": 17,
   "id": "9ce0d20e-be08-43f3-8ec7-316a7259c877",
   "metadata": {},
   "outputs": [],
   "source": [
    "import numpy as np\n",
    "import pandas as pd\n",
    "import matplotlib.pyplot as plt\n",
    "import seaborn as sns\n",
    "from sklearn.model_selection import train_test_split\n",
    "from sklearn.preprocessing import StandardScaler\n",
    "from sklearn.metrics import accuracy_score"
   ]
  },
  {
   "cell_type": "code",
   "execution_count": 18,
   "id": "7dabf065-1f55-4ba7-aa4b-f451c79548d0",
   "metadata": {},
   "outputs": [
    {
     "name": "stdout",
     "output_type": "stream",
     "text": [
      "   PassengerId  Survived  Pclass  \\\n",
      "0            1         0       3   \n",
      "1            2         1       1   \n",
      "2            3         1       3   \n",
      "3            4         1       1   \n",
      "4            5         0       3   \n",
      "\n",
      "                                                Name     Sex   Age  SibSp  \\\n",
      "0                            Braund, Mr. Owen Harris    male  22.0      1   \n",
      "1  Cumings, Mrs. John Bradley (Florence Briggs Th...  female  38.0      1   \n",
      "2                             Heikkinen, Miss. Laina  female  26.0      0   \n",
      "3       Futrelle, Mrs. Jacques Heath (Lily May Peel)  female  35.0      1   \n",
      "4                           Allen, Mr. William Henry    male  35.0      0   \n",
      "\n",
      "   Parch            Ticket     Fare Cabin Embarked  \n",
      "0      0         A/5 21171   7.2500   NaN        S  \n",
      "1      0          PC 17599  71.2833   C85        C  \n",
      "2      0  STON/O2. 3101282   7.9250   NaN        S  \n",
      "3      0            113803  53.1000  C123        S  \n",
      "4      0            373450   8.0500   NaN        S  \n"
     ]
    }
   ],
   "source": [
    "try:\n",
    "    data = pd.read_csv('TitanicDataset.csv')\n",
    "    print(data.head())\n",
    "except Exception as e:\n",
    "    print(e)"
   ]
  },
  {
   "cell_type": "code",
   "execution_count": 19,
   "id": "3f7ee4fb-06b1-4d98-99ad-62d64de89661",
   "metadata": {},
   "outputs": [
    {
     "name": "stdout",
     "output_type": "stream",
     "text": [
      "Before encoding: Index(['PassengerId', 'Survived', 'Pclass', 'Name', 'Sex', 'Age', 'SibSp',\n",
      "       'Parch', 'Ticket', 'Fare', 'Cabin', 'Embarked'],\n",
      "      dtype='object')\n",
      "Columns after encoding: Index(['PassengerId', 'Survived', 'Pclass', 'Name', 'Sex', 'Age', 'SibSp',\n",
      "       'Parch', 'Ticket', 'Fare', 'Cabin', 'Embarked_Q', 'Embarked_S'],\n",
      "      dtype='object')\n"
     ]
    },
    {
     "name": "stderr",
     "output_type": "stream",
     "text": [
      "C:\\Users\\Isha\\AppData\\Local\\Temp\\ipykernel_11692\\936741485.py:3: FutureWarning: A value is trying to be set on a copy of a DataFrame or Series through chained assignment using an inplace method.\n",
      "The behavior will change in pandas 3.0. This inplace method will never work because the intermediate object on which we are setting values always behaves as a copy.\n",
      "\n",
      "For example, when doing 'df[col].method(value, inplace=True)', try using 'df.method({col: value}, inplace=True)' or df[col] = df[col].method(value) instead, to perform the operation inplace on the original object.\n",
      "\n",
      "\n",
      "  data['Age'].fillna(data['Age'].median(), inplace=True)\n",
      "C:\\Users\\Isha\\AppData\\Local\\Temp\\ipykernel_11692\\936741485.py:4: FutureWarning: A value is trying to be set on a copy of a DataFrame or Series through chained assignment using an inplace method.\n",
      "The behavior will change in pandas 3.0. This inplace method will never work because the intermediate object on which we are setting values always behaves as a copy.\n",
      "\n",
      "For example, when doing 'df[col].method(value, inplace=True)', try using 'df.method({col: value}, inplace=True)' or df[col] = df[col].method(value) instead, to perform the operation inplace on the original object.\n",
      "\n",
      "\n",
      "  data['Embarked'].fillna(data['Embarked'].mode()[0], inplace=True)\n"
     ]
    }
   ],
   "source": [
    "try:\n",
    "    print(\"Before encoding:\", data.columns)\n",
    "    data['Age'].fillna(data['Age'].median(), inplace=True)\n",
    "    data['Embarked'].fillna(data['Embarked'].mode()[0], inplace=True)\n",
    "    data['Sex'] = data['Sex'].map({'male': 0, 'female': 1})#one hot encoding for embarked column\n",
    "    data = pd.get_dummies(data, columns=['Embarked'], drop_first=True) \n",
    "    print(\"Columns after encoding:\", data.columns)\n",
    "except Exception as e:\n",
    "    print(e)"
   ]
  },
  {
   "cell_type": "code",
   "execution_count": 20,
   "id": "e84e62ff-8762-4549-8eee-f70c886eb8c4",
   "metadata": {},
   "outputs": [
    {
     "name": "stdout",
     "output_type": "stream",
     "text": [
      "X_train shape: (712, 5)\n",
      "X_test shape: (179, 5)\n",
      "y_train shape: (712, 3)\n",
      "y_test shape: (179, 3)\n",
      "     Embarked_Q  Embarked_S\n",
      "331           0           1\n",
      "733           0           1\n",
      "382           0           1\n",
      "704           0           1\n",
      "813           0           1\n"
     ]
    }
   ],
   "source": [
    "try:\n",
    "    X = data[['Age', 'Fare', 'Sex'] + [col for col in data.columns if 'Embarked' in col]] #features\n",
    "    y = data['Pclass'] #target variable\n",
    "    y_one_hot = pd.get_dummies(y, prefix='Pclass')\n",
    "    X_train, X_test, y_train, y_test = train_test_split(X, y_one_hot, test_size=0.2, random_state=42)\n",
    "    print(\"X_train shape:\", X_train.shape)\n",
    "    print(\"X_test shape:\", X_test.shape)\n",
    "    print(\"y_train shape:\", y_train.shape)\n",
    "    print(\"y_test shape:\", y_test.shape)\n",
    "    X_train[['Embarked_Q', 'Embarked_S']] = X_train[['Embarked_Q', 'Embarked_S']].astype(int)\n",
    "    X_test[['Embarked_Q', 'Embarked_S']] = X_test[['Embarked_Q', 'Embarked_S']].astype(int)\n",
    "    print(X_train[['Embarked_Q', 'Embarked_S']].head())\n",
    "except Exception as e:\n",
    "    print(e)"
   ]
  },
  {
   "cell_type": "code",
   "execution_count": 21,
   "id": "b0f501c2-1721-4d87-9459-7fe3885cac4c",
   "metadata": {},
   "outputs": [
    {
     "name": "stdout",
     "output_type": "stream",
     "text": [
      "          Age      Fare  Sex  Embarked_Q  Embarked_S\n",
      "331  1.253641 -0.078684    0           0           1\n",
      "733 -0.477284 -0.377145    0           0           1\n",
      "382  0.215086 -0.474867    0           0           1\n",
      "704 -0.246494 -0.476230    0           0           1\n",
      "813 -1.785093 -0.025249    1           0           1\n"
     ]
    }
   ],
   "source": [
    "try:\n",
    "    # Let's scale only the numeric columns\n",
    "    scaler = StandardScaler()\n",
    "    X_train[['Age', 'Fare']] = scaler.fit_transform(X_train[['Age', 'Fare']])\n",
    "    X_test[['Age', 'Fare']] = scaler.transform(X_test[['Age', 'Fare']])\n",
    "    print(X_train.head())\n",
    "except Exception as e:\n",
    "    print(e)\n"
   ]
  },
  {
   "cell_type": "code",
   "execution_count": 22,
   "id": "34ffc3d7-24a5-4968-b9b0-bea826e7b8bc",
   "metadata": {},
   "outputs": [
    {
     "name": "stdout",
     "output_type": "stream",
     "text": [
      "Softmax result: [[0.65900114 0.24243297 0.09856589]]\n"
     ]
    }
   ],
   "source": [
    "try:\n",
    "    # Define the softmax function\n",
    "    def softmax(scores):\n",
    "        exp_scores = np.exp(scores - np.max(scores, axis=1, keepdims=True))\n",
    "        return exp_scores / np.sum(exp_scores, axis=1, keepdims=True)\n",
    "\n",
    "    # Example usage of the softmax function\n",
    "    test_scores = np.array([[2.0, 1.0, 0.1]])\n",
    "    result = softmax(test_scores)\n",
    "    print(\"Softmax result:\", result)\n",
    "\n",
    "except Exception as e:\n",
    "    print(f\"An error occurred: {e}\")\n"
   ]
  },
  {
   "cell_type": "code",
   "execution_count": 23,
   "id": "55e3c1b1-a5b7-46ab-9b86-f026f143a016",
   "metadata": {},
   "outputs": [
    {
     "name": "stdout",
     "output_type": "stream",
     "text": [
      "[[0.41474187 0.30724834 0.27800979]\n",
      " [0.38435576 0.19086542 0.42477881]]\n"
     ]
    }
   ],
   "source": [
    "try:\n",
    "    scores = np.array([[1.2, 0.9, 0.8], [1.1, 0.4, 1.2]])\n",
    "    probs = softmax(scores)\n",
    "    assert np.allclose(np.sum(probs, axis=1), 1)\n",
    "    print(softmax(scores))\n",
    "except Exception as e:\n",
    "    print(e)\n",
    "    \n"
   ]
  },
  {
   "cell_type": "code",
   "execution_count": 24,
   "id": "8855992b-11e4-400e-8030-9e7b3c9931b5",
   "metadata": {},
   "outputs": [
    {
     "name": "stdout",
     "output_type": "stream",
     "text": [
      "0.35667494393873245\n"
     ]
    }
   ],
   "source": [
    "def cross_entropy_loss(y_true, y_pred):\n",
    "    \"\"\"\n",
    "    Compute the cross-entropy loss between true labels and predicted probabilities.\n",
    "    \n",
    "    Args:\n",
    "    y_true (np.array): True labels (one-hot encoded).\n",
    "    y_pred (np.array): Predicted probabilities.\n",
    "    \n",
    "    Returns:\n",
    "    float: The cross-entropy loss.\n",
    "    \"\"\"\n",
    "    # Ensure numerical stability by clipping predicted probabilities\n",
    "    y_pred = np.clip(y_pred, 1e-12, 1.0)\n",
    "    \n",
    "    # Compute the cross-entropy loss\n",
    "    loss = -np.sum(y_true * np.log(y_pred)) / y_true.shape[0]\n",
    "    return loss\n",
    "\n",
    "# Example usage\n",
    "try:\n",
    "    y_true = np.array([[1, 0, 0], [0, 1, 0]])\n",
    "    y_pred = np.array([[0.7, 0.2, 0.1], [0.2, 0.7, 0.1]])\n",
    "    cost = cross_entropy_loss(y_true, y_pred)\n",
    "    assert cost >= 0, \"Test failed: Loss should be non-negative\"\n",
    "    print(cost)\n",
    "except Exception as e:\n",
    "    print(e)\n"
   ]
  },
  {
   "cell_type": "code",
   "execution_count": 25,
   "id": "6713951c-597d-45c9-a3ed-c69b2c971797",
   "metadata": {},
   "outputs": [],
   "source": [
    "try:\n",
    "    def compute_gradients(X, Y, probs):\n",
    "        num_samples = X.shape[0]\n",
    "        grad_W = np.dot(X.T, (probs - Y)) / num_samples\n",
    "        grad_b = np.sum(probs - Y, axis=0, keepdims=True) / num_samples\n",
    "        return grad_W, grad_b\n",
    "except Exception as e:\n",
    "    print(e)"
   ]
  },
  {
   "cell_type": "code",
   "execution_count": 26,
   "id": "8979da35-4b5c-477a-a3a4-c5944f32f0ad",
   "metadata": {},
   "outputs": [
    {
     "name": "stdout",
     "output_type": "stream",
     "text": [
      "Gradient W: (3, 3)\n",
      "Gradient b: (1, 3)\n"
     ]
    }
   ],
   "source": [
    "try:\n",
    "    X = np.random.randn(5, 3)  # Sample data\n",
    "    Y = np.random.randint(0, 2, (5, 3)) \n",
    "    probs = np.random.rand(5, 3)  \n",
    "    grad_W, grad_b = compute_gradients(X, Y, probs)\n",
    "    assert grad_W.shape == (X.shape[1], Y.shape[1]), \"Test failed: Gradient W has incorrect shape\"\n",
    "    assert grad_b.shape == (1, Y.shape[1]), \"Test failed: Gradient b has incorrect shape\"\n",
    "    print(\"Gradient W:\", grad_W.shape)\n",
    "    print(\"Gradient b:\", grad_b.shape)\n",
    "except Exception as e:\n",
    "    print(e)\n",
    "    "
   ]
  },
  {
   "cell_type": "code",
   "execution_count": 27,
   "id": "973e770c-13db-4214-9be5-72ce38defa28",
   "metadata": {},
   "outputs": [],
   "source": [
    "try:\n",
    "    def softmax_regression(X, Y, alpha=0.01, epochs=1000):\n",
    "        # Initialize weights and bias\n",
    "        W = np.random.randn(X.shape[1], Y.shape[1])\n",
    "        b = np.zeros((1, Y.shape[1]))\n",
    "        loss_history = []  # List to store the loss values\n",
    "\n",
    "        # Training loop\n",
    "        for epoch in range(epochs):\n",
    "            scores = np.dot(X, W) + b\n",
    "            probs = softmax(scores)  # Compute probabilities using softmax\n",
    "            loss = cross_entropy_loss(Y, probs)  # Compute the loss\n",
    "            loss_history.append(loss)\n",
    "\n",
    "            # Compute gradients\n",
    "            grad_W, grad_b = compute_gradients(X, Y, probs)\n",
    "\n",
    "            # Update weights and bias\n",
    "            W -= alpha * grad_W\n",
    "            b -= alpha * grad_b\n",
    "\n",
    "            # Print loss every 100 epochs\n",
    "            if epoch % 100 == 0:\n",
    "                print(f'Epoch {epoch}, Loss: {loss}')\n",
    "\n",
    "        # Return the final weights, bias, and loss history\n",
    "        return W, b, loss_history\n",
    "\n",
    "except Exception as e:\n",
    "    print(e)\n"
   ]
  },
  {
   "cell_type": "code",
   "execution_count": 28,
   "id": "5af44225-0645-4500-b025-f11ce4e36f5a",
   "metadata": {},
   "outputs": [],
   "source": [
    "try:\n",
    "    scores = np.array([[1.2, 0.9, 0.8], [1.1, 0.4, 1.2]])\n",
    "    probs = softmax(scores)\n",
    "    assert np.allclose(np.sum(probs, axis=1), 1), \"Test failed: Softmax probabilities don't sum to 1\"\n",
    "except Exception as e:\n",
    "    print(e)"
   ]
  },
  {
   "cell_type": "code",
   "execution_count": 29,
   "id": "c4ccecb5-f5a8-4a8f-912e-da00d002e0dc",
   "metadata": {},
   "outputs": [
    {
     "data": {
      "image/png": "[encoded data removed]",
      "text/plain": [
       "<Figure size 800x600 with 1 Axes>"
      ]
     },
     "metadata": {},
     "output_type": "display_data"
    }
   ],
   "source": [
    "# Softmax function\n",
    "def softmax(z):\n",
    "    \"\"\"\n",
    "    Compute the softmax probabilities for each class.\n",
    "\n",
    "    Args:\n",
    "    - z (np.ndarray): Logits of shape (n_samples, n_classes).\n",
    "\n",
    "    Returns:\n",
    "    - np.ndarray: Softmax probabilities of shape (n_samples, n_classes).\n",
    "    \"\"\"\n",
    "    exp_z = np.exp(z - np.max(z, axis=1, keepdims=True))  # For numerical stability\n",
    "    return exp_z / np.sum(exp_z, axis=1, keepdims=True)\n",
    "\n",
    "# Cross-entropy loss function\n",
    "def cross_entropy_loss(y_true, y_pred):\n",
    "    \"\"\"\n",
    "    Compute the cross-entropy loss.\n",
    "\n",
    "    Args:\n",
    "    - y_true (np.ndarray): One-hot encoded true labels of shape (n_samples, n_classes).\n",
    "    - y_pred (np.ndarray): Predicted probabilities of shape (n_samples, n_classes).\n",
    "\n",
    "    Returns:\n",
    "    - float: Average cross-entropy loss over all samples.\n",
    "    \"\"\"\n",
    "    epsilon = 1e-10  # Avoid log(0)\n",
    "    y_pred = np.clip(y_pred, epsilon, 1.0 - epsilon)\n",
    "    return -np.sum(y_true * np.log(y_pred)) / y_true.shape[0]\n",
    "\n",
    "# Softmax regression function\n",
    "def softmax_regression(X, y, alpha=0.01, epochs=1000):\n",
    "    \"\"\"\n",
    "    Perform softmax regression.\n",
    "\n",
    "    Args:\n",
    "    - X (np.ndarray): Feature matrix of shape (n_samples, n_features).\n",
    "    - y (np.ndarray): One-hot encoded labels of shape (n_samples, n_classes).\n",
    "    - alpha (float): Learning rate.\n",
    "    - epochs (int): Number of iterations.\n",
    "\n",
    "    Returns:\n",
    "    - W (np.ndarray): Learned weights of shape (n_features, n_classes).\n",
    "    - b (np.ndarray): Learned biases of shape (n_classes,).\n",
    "    - loss_history (list): Loss recorded over epochs.\n",
    "    \"\"\"\n",
    "    n_samples, n_features = X.shape\n",
    "    n_classes = y.shape[1]\n",
    "\n",
    "    # Initialize weights and biases\n",
    "    W = np.random.randn(n_features, n_classes) * 0.01\n",
    "    b = np.zeros(n_classes)\n",
    "\n",
    "    loss_history = []\n",
    "\n",
    "    for epoch in range(epochs):\n",
    "        # Forward pass: compute logits and predictions\n",
    "        logits = np.dot(X, W) + b\n",
    "        y_pred = softmax(logits)\n",
    "\n",
    "        # Compute loss\n",
    "        loss = cross_entropy_loss(y, y_pred)\n",
    "        loss_history.append(loss)\n",
    "\n",
    "        # Backward pass: compute gradients\n",
    "        grad_W = np.dot(X.T, (y_pred - y)) / n_samples\n",
    "        grad_b = np.sum(y_pred - y, axis=0) / n_samples\n",
    "\n",
    "        # Update weights and biases\n",
    "        W -= alpha * grad_W\n",
    "        b -= alpha * grad_b\n",
    "\n",
    "    return W, b, loss_history\n",
    "\n",
    "# Function to plot the loss curve\n",
    "def plot_loss_curve(loss_history):\n",
    "    \"\"\"\n",
    "    Plot the loss curve.\n",
    "\n",
    "    Args:\n",
    "    - loss_history (list): List of loss values over epochs.\n",
    "    \"\"\"\n",
    "    plt.figure(figsize=(8, 6))\n",
    "    plt.plot(loss_history, color='blue', label='Training Loss')\n",
    "    plt.title('Loss Curve', fontsize=16)\n",
    "    plt.xlabel('Epochs', fontsize=14)\n",
    "    plt.ylabel('Loss', fontsize=14)\n",
    "    plt.legend(fontsize=12)\n",
    "    plt.grid(True, linestyle='--', alpha=0.7)\n",
    "    plt.show()\n",
    "\n",
    "# Main execution\n",
    "try:\n",
    "    # Ensure X_train and y_train are converted to NumPy arrays\n",
    "    X_train_np = X_train.to_numpy()  # Convert to NumPy array\n",
    "    y_train_np = y_train.to_numpy()  # Ensure one-hot encoded labels\n",
    "\n",
    "    # Perform softmax regression\n",
    "    W, b, loss_history = softmax_regression(X_train_np, y_train_np, alpha=0.01, epochs=1000)\n",
    "\n",
    "    # Call the plot function\n",
    "    plot_loss_curve(loss_history)\n",
    "except Exception as e:\n",
    "    print(f\"An unexpected error occurred: {e}\")\n"
   ]
  },
  {
   "cell_type": "code",
   "execution_count": 30,
   "id": "ad1f7919-8884-4425-bd91-40b75393740b",
   "metadata": {},
   "outputs": [],
   "source": [
    "def predict(X, W, b):\n",
    "    \n",
    "    try:\n",
    "        # Compute scores\n",
    "        scores = np.dot(X, W) + b\n",
    "\n",
    "        # Compute probabilities using softmax\n",
    "        probs = softmax(scores)\n",
    "\n",
    "        # Return the class with the highest probability\n",
    "        return np.argmax(probs, axis=1)\n",
    "\n",
    "    except Exception as e:\n",
    "        print(f\"An unexpected error occurred: {e}\")\n"
   ]
  },
  {
   "cell_type": "code",
   "execution_count": 31,
   "id": "fd3dd059-4863-4f2e-a944-856ac1bf5a17",
   "metadata": {},
   "outputs": [
    {
     "name": "stdout",
     "output_type": "stream",
     "text": [
      "test_predict passed!\n"
     ]
    }
   ],
   "source": [
    "# Random test data\n",
    "X_train = np.random.randn(100, 3)  # 100 samples, 3 features\n",
    "W = np.random.randn(3, 3)         # 3 features, 3 classes\n",
    "b = np.random.randn(1, 3)         # 1 bias per class\n",
    "\n",
    "# Test the predict function\n",
    "predictions = predict(X_train, W, b)\n",
    "\n",
    "# Check the shape of the predictions\n",
    "assert predictions.shape[0] == X_train.shape[0], \"Mismatch: The number of predictions does not match the number of samples.\"\n",
    "\n",
    "# If no assertion error, the test passed\n",
    "print(\"test_predict passed!\")\n"
   ]
  },
  {
   "cell_type": "code",
   "execution_count": 32,
   "id": "f535325f-9d59-4ace-81ae-b607705d9bb4",
   "metadata": {},
   "outputs": [
    {
     "name": "stdout",
     "output_type": "stream",
     "text": [
      "Training Accuracy: 31.00%\n",
      "Testing Accuracy: 40.00%\n"
     ]
    }
   ],
   "source": [
    "# Simulate some data (replace this with your actual dataset)\n",
    "X_train = np.random.randn(100, 3)  # 100 samples, 3 features\n",
    "y_train = np.eye(3)[np.random.choice(3, 100)]  # One-hot encoded labels\n",
    "X_test = np.random.randn(50, 3)  # 50 samples, 3 features\n",
    "y_test = np.eye(3)[np.random.choice(3, 50)]  # One-hot encoded labels\n",
    "\n",
    "# Assume softmax_regression is already defined and provides W and b\n",
    "W = np.random.randn(3, 3)  # Replace with trained weights\n",
    "b = np.random.randn(1, 3)  # Replace with trained biases\n",
    "\n",
    "# Make predictions\n",
    "train_predictions = predict(X_train, W, b)\n",
    "test_predictions = predict(X_test, W, b)\n",
    "\n",
    "# Calculate accuracy\n",
    "train_accuracy = accuracy_score(np.argmax(y_train, axis=1), train_predictions)\n",
    "test_accuracy = accuracy_score(np.argmax(y_test, axis=1), test_predictions)\n",
    "\n",
    "# Print results\n",
    "print(f\"Training Accuracy: {train_accuracy * 100:.2f}%\")\n",
    "print(f\"Testing Accuracy: {test_accuracy * 100:.2f}%\")\n"
   ]
  },
  {
   "cell_type": "code",
   "execution_count": null,
   "id": "35b8551e-eb19-46bf-87e6-4601ff1115b1",
   "metadata": {},
   "outputs": [],
   "source": []
  },
  {
   "cell_type": "code",
   "execution_count": null,
   "id": "388baacb-e853-4005-9b9f-c82626f8e314",
   "metadata": {},
   "outputs": [],
   "source": []
  },
  {
   "cell_type": "code",
   "execution_count": null,
   "id": "fd0073f7-12b9-4d64-9ddd-bb82b7aee262",
   "metadata": {},
   "outputs": [],
   "source": []
  },
  {
   "cell_type": "code",
   "execution_count": null,
   "id": "c99620d1-a632-4a5d-b13d-9fdaa97e738d",
   "metadata": {},
   "outputs": [],
   "source": []
  },
  {
   "cell_type": "code",
   "execution_count": null,
   "id": "018fb990-5ecd-4ca3-8c19-61baa1f5e7bd",
   "metadata": {},
   "outputs": [],
   "source": []
  },
  {
   "cell_type": "code",
   "execution_count": null,
   "id": "28a5fc1c-6809-4be5-869f-2b71d80c03a4",
   "metadata": {},
   "outputs": [],
   "source": []
  },
  {
   "cell_type": "code",
   "execution_count": null,
   "id": "86b30a0c-6cac-440f-a47f-c95dd53249e6",
   "metadata": {},
   "outputs": [],
   "source": []
  },
  {
   "cell_type": "code",
   "execution_count": null,
   "id": "338f54a0-a8ac-48a9-8828-66fbb828aae9",
   "metadata": {},
   "outputs": [],
   "source": []
  }
 ],
 "metadata": {
  "kernelspec": {
   "display_name": "Python 3 (ipykernel)",
   "language": "python",
   "name": "python3"
  },
  "language_info": {
   "codemirror_mode": {
    "name": "ipython",
    "version": 3
   },
   "file_extension": ".py",
   "mimetype": "text/x-python",
   "name": "python",
   "nbconvert_exporter": "python",
   "pygments_lexer": "ipython3",
   "version": "3.13.0"
  }
 },
 "nbformat": 4,
 "nbformat_minor": 5
}
