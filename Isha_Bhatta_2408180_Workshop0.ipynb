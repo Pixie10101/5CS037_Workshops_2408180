{
 "cells": [
  {
   "cell_type": "code",
   "execution_count": 1,
   "id": "129bb384-8f4b-464d-9c1d-eb715492db74",
   "metadata": {},
   "outputs": [
    {
     "name": "stdout",
     "output_type": "stream",
     "text": [
      "Cold temperatures: [8.2, 7.9, 9.0, 8.5, 7.7, 8.4, 9.5, 8.1, 7.6, 8.0, 7.8, 8.7, 9.2, 8.3, 8.9, 7.8]\n",
      "Mild temperatures: [14.1, 13.5, 13.0, 12.9, 13.3, 14.0, 13.4, 14.2, 12.8, 13.7, 13.6, 13.8, 13.9, 12.7, 13.1, 12.5]\n",
      "Comfortable temperatures: [17.4, 18.0, 17.8, 16.5, 17.2, 16.7, 18.3, 17.9, 17.0, 16.8, 17.5, 17.1, 18.1, 16.4, 18.2, 16.6]\n"
     ]
    }
   ],
   "source": [
    "#Name:Isha Bhatta\n",
    "#\n",
    "#Task 1\n",
    "temperatures =[8.2, 17.4, 14.1, 7.9, 18.0, 13.5, 9.0, 17.8, 13.0, 8.5, 16.5, 12.9, 7.7, 17.2, 13.3, 8.4, 16.7, 14.0, 9.5, 18.3, 13.4, 8.1, 17.9, 14.2, 7.6, 17.0, 12.8, 8.0, 16.8, 13.7,\n",
    " 7.8, 17.5, 13.6, 8.7, 17.1, 13.8, 9.2, 18.1, 13.9, 8.3, 16.4, 12.7, 8.9, 18.2, 13.1, 7.8, 16.6, 12.5]\n",
    "\n",
    "#1 creating empty list for each category \n",
    "cold=[]\n",
    "mild=[]\n",
    "comfortable=[]\n",
    "\n",
    "#2 using iteration to clasify the data\n",
    "for temperature in temperatures:\n",
    "    if temperature <10:\n",
    "        cold.append(temperature)\n",
    "    elif 10 <= temperature < 15:\n",
    "        mild.append(temperature)\n",
    "    elif 15 <= temperature <= 20:\n",
    "        comfortable.append(temperature)\n",
    "\n",
    "#3 print the output\n",
    "print(\"Cold temperatures:\", cold)\n",
    "print(\"Mild temperatures:\", mild)\n",
    "print(\"Comfortable temperatures:\", comfortable)\n",
    "\n",
    "    \n"
   ]
  },
  {
   "cell_type": "code",
   "execution_count": 1,
   "id": "d6fd81a0-eaec-4ef8-b1bb-3d4a8ddcff09",
   "metadata": {},
   "outputs": [
    {
     "name": "stdout",
     "output_type": "stream",
     "text": [
      "The number of times it was mild: 16\n",
      "The number of times it was comfortable: 16\n",
      "The number of times it was cold: 16\n"
     ]
    }
   ],
   "source": [
    "# Task 2\n",
    "cold = [8.2, 7.9, 9.0, 8.5, 7.7, 8.4, 9.5, 8.1, 7.6, 8.0, 7.8, 8.7, 9.2, 8.3, 8.9, 7.8]\n",
    "mild = [14.1, 13.5, 13.0, 12.9, 13.3, 14.0, 13.4, 14.2, 12.8, 13.7, 13.6, 13.8, 13.9, 12.7, 13.1, 12.5]\n",
    "comfortable = [17.4, 18.0, 17.8, 16.5, 17.2, 16.7, 18.3, 17.9, 17.0, 16.8, 17.5, 17.1, 18.1, 16.4, 18.2, 16.6]\n",
    "\n",
    "# 1. \n",
    "count_mild = len(mild)\n",
    "print(f\"The number of times it was mild: {count_mild}\")\n",
    "\n",
    "# 2. \n",
    "count_comfortable = len(comfortable)\n",
    "print(f\"The number of times it was comfortable: {count_comfortable}\")\n",
    "\n",
    "# 3. \n",
    "count_cold = len(cold)\n",
    "print(f\"The number of times it was cold: {count_cold}\")\n"
   ]
  },
  {
   "cell_type": "code",
   "execution_count": 3,
   "id": "4ad20d81-9a63-4cd2-912b-34f7ff203c34",
   "metadata": {},
   "outputs": [
    {
     "name": "stdout",
     "output_type": "stream",
     "text": [
      "Temperatures in Fahrenheit:\n",
      "[46.76, 46.22, 48.2, 47.3, 45.86, 47.120000000000005, 49.1, 46.58, 45.68, 46.4, 46.04, 47.66, 48.56, 46.94, 48.02, 46.04, 57.379999999999995, 56.3, 55.4, 55.22, 55.94, 57.2, 56.120000000000005, 57.56, 55.04, 56.66, 56.48, 56.84, 57.02, 54.86, 55.58, 54.5, 63.32, 64.4, 64.04, 61.7, 62.959999999999994, 62.059999999999995, 64.94, 64.22, 62.6, 62.24, 63.5, 62.78, 64.58, 61.519999999999996, 64.75999999999999, 61.88]\n"
     ]
    }
   ],
   "source": [
    "# Task 3\n",
    "temperatures = [8.2, 7.9, 9.0, 8.5, 7.7, 8.4, 9.5, 8.1, 7.6, 8.0, 7.8, 8.7, 9.2, 8.3, 8.9, 7.8, \n",
    "                14.1, 13.5, 13.0, 12.9, 13.3, 14.0, 13.4, 14.2, 12.8, 13.7, 13.6, 13.8, 13.9, 12.7, \n",
    "                13.1, 12.5, 17.4, 18.0, 17.8, 16.5, 17.2, 16.7, 18.3, 17.9, 17.0, 16.8, 17.5, 17.1, \n",
    "                18.1, 16.4, 18.2, 16.6]\n",
    "\n",
    "# Initializing empty list\n",
    "temperatures_fahrenheit = []\n",
    "\n",
    "# Convert each Celsius temperature to Fahrenheit\n",
    "for temp_celsius in temperatures:\n",
    "    temp_fahrenheit = (temp_celsius * 9/5) + 32\n",
    "    temperatures_fahrenheit.append(temp_fahrenheit)\n",
    "\n",
    "# Print the converted Fahrenheit values\n",
    "print(\"Temperatures in Fahrenheit:\")\n",
    "print(temperatures_fahrenheit)\n"
   ]
  },
  {
   "cell_type": "code",
   "execution_count": 1,
   "id": "d376defe-5b43-4adf-8f87-2295ffd01c7a",
   "metadata": {},
   "outputs": [
    {
     "ename": "ModuleNotFoundError",
     "evalue": "No module named 'matplotlib'",
     "output_type": "error",
     "traceback": [
      "\u001b[1;31m---------------------------------------------------------------------------\u001b[0m",
      "\u001b[1;31mModuleNotFoundError\u001b[0m                       Traceback (most recent call last)",
      "Cell \u001b[1;32mIn[1], line 2\u001b[0m\n\u001b[0;32m      1\u001b[0m \u001b[38;5;66;03m#Task 4\u001b[39;00m\n\u001b[1;32m----> 2\u001b[0m \u001b[38;5;28;01mimport\u001b[39;00m \u001b[38;5;21;01mmatplotlib\u001b[39;00m\u001b[38;5;21;01m.\u001b[39;00m\u001b[38;5;21;01mpyplot\u001b[39;00m \u001b[38;5;28;01mas\u001b[39;00m \u001b[38;5;21;01mplt\u001b[39;00m\n\u001b[0;32m      4\u001b[0m \u001b[38;5;66;03m# Example temperature readings for one day (hourly readings: 0-23)\u001b[39;00m\n\u001b[0;32m      5\u001b[0m temperatures \u001b[38;5;241m=\u001b[39m [\u001b[38;5;241m12\u001b[39m, \u001b[38;5;241m11\u001b[39m, \u001b[38;5;241m10\u001b[39m, \u001b[38;5;241m9\u001b[39m, \u001b[38;5;241m8\u001b[39m, \u001b[38;5;241m7\u001b[39m, \u001b[38;5;241m6\u001b[39m, \u001b[38;5;241m6\u001b[39m, \u001b[38;5;241m7\u001b[39m, \u001b[38;5;241m8\u001b[39m, \u001b[38;5;241m10\u001b[39m, \u001b[38;5;241m12\u001b[39m, \u001b[38;5;241m15\u001b[39m, \u001b[38;5;241m17\u001b[39m, \u001b[38;5;241m19\u001b[39m, \u001b[38;5;241m18\u001b[39m, \u001b[38;5;241m16\u001b[39m, \u001b[38;5;241m14\u001b[39m, \u001b[38;5;241m13\u001b[39m, \u001b[38;5;241m12\u001b[39m, \u001b[38;5;241m11\u001b[39m, \u001b[38;5;241m10\u001b[39m, \u001b[38;5;241m9\u001b[39m, \u001b[38;5;241m8\u001b[39m]\n",
      "\u001b[1;31mModuleNotFoundError\u001b[0m: No module named 'matplotlib'"
     ]
    }
   ],
   "source": [
    "#Task 4\n",
    "import matplotlib.pyplot as plt\n",
    "\n",
    "# Example temperature readings for one day (hourly readings: 0-23)\n",
    "temperatures = [12, 11, 10, 9, 8, 7, 6, 6, 7, 8, 10, 12, 15, 17, 19, 18, 16, 14, 13, 12, 11, 10, 9, 8]\n",
    "\n",
    "# Create empty lists for time periods\n",
    "night_temps = []\n",
    "evening_temps = []\n",
    "day_temps = []\n",
    "\n",
    "# Categorize the temperature readings\n",
    "for i, temp in enumerate(temperatures):\n",
    "    if 0 <= i < 8:  # Night: 00:00 - 08:00\n",
    "        night_temps.append(temp)\n",
    "    elif 8 <= i < 16:  # Evening: 08:00 - 16:00\n",
    "        evening_temps.append(temp)\n",
    "    elif 16 <= i < 24:  # Day: 16:00 - 24:00\n",
    "        day_temps.append(temp)\n",
    "\n",
    "# Calculate the average day-time temperature\n",
    "average_day_temp = sum(day_temps) / len(day_temps) if day_temps else 0\n",
    "print(f\"Average Day-Time Temperature: {average_day_temp:.2f}°C\")\n",
    "\n",
    "# Optional: Plot the temperature pattern\n",
    "labels = [\"Night\", \"Evening\", \"Day\"]\n",
    "average_temps = [\n",
    "    sum(night_temps) / len(night_temps) if night_temps else 0,\n",
    "    sum(evening_temps) / len(evening_temps) if evening_temps else 0,\n",
    "    average_day_temp,\n",
    "]\n",
    "\n",
    "plt.bar(labels, average_temps, color=['blue', 'orange', 'red'])\n",
    "plt.xlabel(\"Time of Day\")\n",
    "plt.ylabel(\"Average Temperature (°C)\")\n",
    "plt.title(\"Average Temperature by Time of Day\")\n",
    "plt.show()\n"
   ]
  },
  {
   "cell_type": "code",
   "execution_count": 1,
   "id": "9427186c-0e77-4680-9ee7-49b4a235a55c",
   "metadata": {},
   "outputs": [
    {
     "name": "stdout",
     "output_type": "stream",
     "text": [
      "The sum of all numbers in the nested list is: 55\n"
     ]
    }
   ],
   "source": [
    "#Task 5\n",
    "def sum_nested_list(nested_list):\n",
    "    total = 0\n",
    "    for element in nested_list:\n",
    "        if isinstance(element, list):  # Check if the element is a list\n",
    "            total += sum_nested_list(element)  # Recursively sum the nested list\n",
    "        else:\n",
    "            total += element  # Add the number to the total\n",
    "    return total\n",
    "\n",
    "# Example usage\n",
    "nested_list = [1, [2, 3], [4, [5, 6]], 7, [8, [9, [10]]]]\n",
    "result = sum_nested_list(nested_list)\n",
    "print(f\"The sum of all numbers in the nested list is: {result}\")\n",
    "\n",
    "\n",
    "\n"
   ]
  },
  {
   "cell_type": "code",
   "execution_count": 1,
   "id": "c7b4c27e-09c4-45ff-89a1-e664af59a73b",
   "metadata": {},
   "outputs": [
    {
     "name": "stdout",
     "output_type": "stream",
     "text": [
      "['abc', 'acb', 'bac', 'bca', 'cab', 'cba']\n",
      "['aab', 'aba', 'baa']\n"
     ]
    }
   ],
   "source": [
    "#Task 6\n",
    "def generate_permutations(s):\n",
    "    def backtrack(path, choices):\n",
    "        if not choices:  # Base case: no more characters to choose\n",
    "            permutations.add(\"\".join(path))  # Add the completed permutation\n",
    "            return\n",
    "        for i in range(len(choices)):\n",
    "            # Include the current character in the path and backtrack\n",
    "            backtrack(path + [choices[i]], choices[:i] + choices[i+1:])\n",
    "    \n",
    "    permutations = set()  # Use a set to ensure uniqueness\n",
    "    backtrack([], list(s))\n",
    "    return sorted(permutations)  # Return a sorted list of permutations\n",
    "\n",
    "# Test cases\n",
    "print(generate_permutations(\"abc\"))  # ['abc', 'acb', 'bac', 'bca', 'cab', 'cba']\n",
    "print(generate_permutations(\"aab\"))  # ['aab', 'aba', 'baa']\n"
   ]
  },
  {
   "cell_type": "code",
   "execution_count": 2,
   "id": "c1bb4175-a2d1-47ef-8d1a-eb281866c870",
   "metadata": {},
   "outputs": [
    {
     "name": "stdout",
     "output_type": "stream",
     "text": [
      "Minimum coins needed to make 11: 3\n"
     ]
    }
   ],
   "source": [
    "#Task 7\n",
    "def min_coins(coins, amount):\n",
    "    # Create a DP array to store the minimum coins for each amount\n",
    "    dp = [float('inf')] * (amount + 1)\n",
    "    dp[0] = 0  # Base case: 0 coins are needed to make amount 0\n",
    "\n",
    "    # Iterate through each coin and update the DP array\n",
    "    for coin in coins:\n",
    "        for x in range(coin, amount + 1):\n",
    "            dp[x] = min(dp[x], dp[x - coin] + 1)\n",
    "\n",
    "    # If dp[amount] is still infinity, it means the amount cannot be formed\n",
    "    return dp[amount] if dp[amount] != float('inf') else -1\n",
    "\n",
    "# Test with coins = [1, 2, 5] and amount = 11\n",
    "coins = [1, 2, 5]\n",
    "amount = 11\n",
    "result = min_coins(coins, amount)\n",
    "print(f\"Minimum coins needed to make {amount}: {result}\")\n"
   ]
  },
  {
   "cell_type": "code",
   "execution_count": 3,
   "id": "9d0562e9-8644-4f9c-b848-3790258cff2b",
   "metadata": {},
   "outputs": [
    {
     "name": "stdout",
     "output_type": "stream",
     "text": [
      "Length of the longest common subsequence: 3\n"
     ]
    }
   ],
   "source": [
    "#Task 8\n",
    "def longest_common_subsequence(s1, s2):\n",
    "    # Create a DP table to store the lengths of LCS for substrings of s1 and s2\n",
    "    m, n = len(s1), len(s2)\n",
    "    \n",
    "    # DP table where dp[i][j] will store the length of LCS of s1[0...i-1] and s2[0...j-1]\n",
    "    dp = [[0] * (n + 1) for _ in range(m + 1)]\n",
    "    \n",
    "    # Fill the DP table\n",
    "    for i in range(1, m + 1):\n",
    "        for j in range(1, n + 1):\n",
    "            if s1[i - 1] == s2[j - 1]:  # If characters match\n",
    "                dp[i][j] = dp[i - 1][j - 1] + 1  # Increment the length of LCS\n",
    "            else:\n",
    "                dp[i][j] = max(dp[i - 1][j], dp[i][j - 1])  # Take the maximum of excluding one character from either string\n",
    "\n",
    "    # The length of the LCS will be in dp[m][n]\n",
    "    return dp[m][n]\n",
    "\n",
    "# Test with strings \"abcde\" and \"ace\"\n",
    "s1 = \"abcde\"\n",
    "s2 = \"ace\"\n",
    "result = longest_common_subsequence(s1, s2)\n",
    "print(f\"Length of the longest common subsequence: {result}\")\n",
    "\n"
   ]
  },
  {
   "cell_type": "code",
   "execution_count": 4,
   "id": "42012d9a-665e-4b37-97bd-3dcdcc009c6f",
   "metadata": {},
   "outputs": [
    {
     "name": "stdout",
     "output_type": "stream",
     "text": [
      "Maximum value that can be achieved: 9\n"
     ]
    }
   ],
   "source": [
    "#Task 9\n",
    "def knapsack(weights, values, capacity):\n",
    "    n = len(weights)\n",
    "    \n",
    "    # DP table to store maximum value at each capacity from 0 to capacity\n",
    "    dp = [[0] * (capacity + 1) for _ in range(n + 1)]\n",
    "    \n",
    "    # Fill the DP table\n",
    "    for i in range(1, n + 1):\n",
    "        for w in range(1, capacity + 1):\n",
    "            if weights[i - 1] <= w:\n",
    "                dp[i][w] = max(dp[i - 1][w], dp[i - 1][w - weights[i - 1]] + values[i - 1])\n",
    "            else:\n",
    "                dp[i][w] = dp[i - 1][w]\n",
    "    \n",
    "    # The maximum value will be in dp[n][capacity]\n",
    "    return dp[n][capacity]\n",
    "\n",
    "# Test with weights [1, 3, 4, 5], values [1, 4, 5, 7], and capacity 7\n",
    "weights = [1, 3, 4, 5]\n",
    "values = [1, 4, 5, 7]\n",
    "capacity = 7\n",
    "result = knapsack(weights, values, capacity)\n",
    "print(f\"Maximum value that can be achieved: {result}\")\n"
   ]
  },
  {
   "cell_type": "code",
   "execution_count": null,
   "id": "b9527e09-4137-4642-9857-f0308f71262a",
   "metadata": {},
   "outputs": [],
   "source": []
  }
 ],
 "metadata": {
  "kernelspec": {
   "display_name": "Python 3 (ipykernel)",
   "language": "python",
   "name": "python3"
  },
  "language_info": {
   "codemirror_mode": {
    "name": "ipython",
    "version": 3
   },
   "file_extension": ".py",
   "mimetype": "text/x-python",
   "name": "python",
   "nbconvert_exporter": "python",
   "pygments_lexer": "ipython3",
   "version": "3.13.0"
  }
 },
 "nbformat": 4,
 "nbformat_minor": 5
}
